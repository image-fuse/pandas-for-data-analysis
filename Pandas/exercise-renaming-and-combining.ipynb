{
 "cells": [
  {
   "cell_type": "markdown",
   "id": "86f72bee",
   "metadata": {
    "papermill": {
     "duration": 0.007482,
     "end_time": "2023-08-07T07:28:13.633704",
     "exception": false,
     "start_time": "2023-08-07T07:28:13.626222",
     "status": "completed"
    },
    "tags": []
   },
   "source": [
    "**This notebook is an exercise in the [Pandas](https://www.kaggle.com/learn/pandas) course.  You can reference the tutorial at [this link](https://www.kaggle.com/residentmario/renaming-and-combining).**\n",
    "\n",
    "---\n"
   ]
  },
  {
   "cell_type": "markdown",
   "id": "bb09f243",
   "metadata": {
    "papermill": {
     "duration": 0.006346,
     "end_time": "2023-08-07T07:28:13.646982",
     "exception": false,
     "start_time": "2023-08-07T07:28:13.640636",
     "status": "completed"
    },
    "tags": []
   },
   "source": [
    "# Introduction\n",
    "\n",
    "Run the following cell to load your data and some utility functions."
   ]
  },
  {
   "cell_type": "code",
   "execution_count": 1,
   "id": "f1d20c73",
   "metadata": {
    "execution": {
     "iopub.execute_input": "2023-08-07T07:28:13.662703Z",
     "iopub.status.busy": "2023-08-07T07:28:13.661877Z",
     "iopub.status.idle": "2023-08-07T07:28:18.053458Z",
     "shell.execute_reply": "2023-08-07T07:28:18.052613Z"
    },
    "papermill": {
     "duration": 4.403057,
     "end_time": "2023-08-07T07:28:18.056739",
     "exception": false,
     "start_time": "2023-08-07T07:28:13.653682",
     "status": "completed"
    },
    "tags": []
   },
   "outputs": [
    {
     "name": "stdout",
     "output_type": "stream",
     "text": [
      "Setup complete.\n"
     ]
    }
   ],
   "source": [
    "import pandas as pd\n",
    "\n",
    "reviews = pd.read_csv(\"../input/wine-reviews/winemag-data-130k-v2.csv\", index_col=0)\n",
    "\n",
    "from learntools.core import binder; binder.bind(globals())\n",
    "from learntools.pandas.renaming_and_combining import *\n",
    "print(\"Setup complete.\")"
   ]
  },
  {
   "cell_type": "markdown",
   "id": "43dd535d",
   "metadata": {
    "papermill": {
     "duration": 0.006709,
     "end_time": "2023-08-07T07:28:18.070605",
     "exception": false,
     "start_time": "2023-08-07T07:28:18.063896",
     "status": "completed"
    },
    "tags": []
   },
   "source": [
    "# Exercises\n",
    "\n",
    "View the first several lines of your data by running the cell below:"
   ]
  },
  {
   "cell_type": "code",
   "execution_count": 2,
   "id": "4ae46152",
   "metadata": {
    "execution": {
     "iopub.execute_input": "2023-08-07T07:28:18.086345Z",
     "iopub.status.busy": "2023-08-07T07:28:18.085722Z",
     "iopub.status.idle": "2023-08-07T07:28:18.109902Z",
     "shell.execute_reply": "2023-08-07T07:28:18.108734Z"
    },
    "papermill": {
     "duration": 0.034946,
     "end_time": "2023-08-07T07:28:18.112370",
     "exception": false,
     "start_time": "2023-08-07T07:28:18.077424",
     "status": "completed"
    },
    "tags": []
   },
   "outputs": [
    {
     "data": {
      "text/html": [
       "<div>\n",
       "<style scoped>\n",
       "    .dataframe tbody tr th:only-of-type {\n",
       "        vertical-align: middle;\n",
       "    }\n",
       "\n",
       "    .dataframe tbody tr th {\n",
       "        vertical-align: top;\n",
       "    }\n",
       "\n",
       "    .dataframe thead th {\n",
       "        text-align: right;\n",
       "    }\n",
       "</style>\n",
       "<table border=\"1\" class=\"dataframe\">\n",
       "  <thead>\n",
       "    <tr style=\"text-align: right;\">\n",
       "      <th></th>\n",
       "      <th>country</th>\n",
       "      <th>description</th>\n",
       "      <th>designation</th>\n",
       "      <th>points</th>\n",
       "      <th>price</th>\n",
       "      <th>province</th>\n",
       "      <th>region_1</th>\n",
       "      <th>region_2</th>\n",
       "      <th>taster_name</th>\n",
       "      <th>taster_twitter_handle</th>\n",
       "      <th>title</th>\n",
       "      <th>variety</th>\n",
       "      <th>winery</th>\n",
       "    </tr>\n",
       "  </thead>\n",
       "  <tbody>\n",
       "    <tr>\n",
       "      <th>0</th>\n",
       "      <td>Italy</td>\n",
       "      <td>Aromas include tropical fruit, broom, brimston...</td>\n",
       "      <td>Vulkà Bianco</td>\n",
       "      <td>87</td>\n",
       "      <td>NaN</td>\n",
       "      <td>Sicily &amp; Sardinia</td>\n",
       "      <td>Etna</td>\n",
       "      <td>NaN</td>\n",
       "      <td>Kerin O’Keefe</td>\n",
       "      <td>@kerinokeefe</td>\n",
       "      <td>Nicosia 2013 Vulkà Bianco  (Etna)</td>\n",
       "      <td>White Blend</td>\n",
       "      <td>Nicosia</td>\n",
       "    </tr>\n",
       "    <tr>\n",
       "      <th>1</th>\n",
       "      <td>Portugal</td>\n",
       "      <td>This is ripe and fruity, a wine that is smooth...</td>\n",
       "      <td>Avidagos</td>\n",
       "      <td>87</td>\n",
       "      <td>15.0</td>\n",
       "      <td>Douro</td>\n",
       "      <td>NaN</td>\n",
       "      <td>NaN</td>\n",
       "      <td>Roger Voss</td>\n",
       "      <td>@vossroger</td>\n",
       "      <td>Quinta dos Avidagos 2011 Avidagos Red (Douro)</td>\n",
       "      <td>Portuguese Red</td>\n",
       "      <td>Quinta dos Avidagos</td>\n",
       "    </tr>\n",
       "    <tr>\n",
       "      <th>2</th>\n",
       "      <td>US</td>\n",
       "      <td>Tart and snappy, the flavors of lime flesh and...</td>\n",
       "      <td>NaN</td>\n",
       "      <td>87</td>\n",
       "      <td>14.0</td>\n",
       "      <td>Oregon</td>\n",
       "      <td>Willamette Valley</td>\n",
       "      <td>Willamette Valley</td>\n",
       "      <td>Paul Gregutt</td>\n",
       "      <td>@paulgwine</td>\n",
       "      <td>Rainstorm 2013 Pinot Gris (Willamette Valley)</td>\n",
       "      <td>Pinot Gris</td>\n",
       "      <td>Rainstorm</td>\n",
       "    </tr>\n",
       "    <tr>\n",
       "      <th>3</th>\n",
       "      <td>US</td>\n",
       "      <td>Pineapple rind, lemon pith and orange blossom ...</td>\n",
       "      <td>Reserve Late Harvest</td>\n",
       "      <td>87</td>\n",
       "      <td>13.0</td>\n",
       "      <td>Michigan</td>\n",
       "      <td>Lake Michigan Shore</td>\n",
       "      <td>NaN</td>\n",
       "      <td>Alexander Peartree</td>\n",
       "      <td>NaN</td>\n",
       "      <td>St. Julian 2013 Reserve Late Harvest Riesling ...</td>\n",
       "      <td>Riesling</td>\n",
       "      <td>St. Julian</td>\n",
       "    </tr>\n",
       "    <tr>\n",
       "      <th>4</th>\n",
       "      <td>US</td>\n",
       "      <td>Much like the regular bottling from 2012, this...</td>\n",
       "      <td>Vintner's Reserve Wild Child Block</td>\n",
       "      <td>87</td>\n",
       "      <td>65.0</td>\n",
       "      <td>Oregon</td>\n",
       "      <td>Willamette Valley</td>\n",
       "      <td>Willamette Valley</td>\n",
       "      <td>Paul Gregutt</td>\n",
       "      <td>@paulgwine</td>\n",
       "      <td>Sweet Cheeks 2012 Vintner's Reserve Wild Child...</td>\n",
       "      <td>Pinot Noir</td>\n",
       "      <td>Sweet Cheeks</td>\n",
       "    </tr>\n",
       "  </tbody>\n",
       "</table>\n",
       "</div>"
      ],
      "text/plain": [
       "    country                                        description  \\\n",
       "0     Italy  Aromas include tropical fruit, broom, brimston...   \n",
       "1  Portugal  This is ripe and fruity, a wine that is smooth...   \n",
       "2        US  Tart and snappy, the flavors of lime flesh and...   \n",
       "3        US  Pineapple rind, lemon pith and orange blossom ...   \n",
       "4        US  Much like the regular bottling from 2012, this...   \n",
       "\n",
       "                          designation  points  price           province  \\\n",
       "0                        Vulkà Bianco      87    NaN  Sicily & Sardinia   \n",
       "1                            Avidagos      87   15.0              Douro   \n",
       "2                                 NaN      87   14.0             Oregon   \n",
       "3                Reserve Late Harvest      87   13.0           Michigan   \n",
       "4  Vintner's Reserve Wild Child Block      87   65.0             Oregon   \n",
       "\n",
       "              region_1           region_2         taster_name  \\\n",
       "0                 Etna                NaN       Kerin O’Keefe   \n",
       "1                  NaN                NaN          Roger Voss   \n",
       "2    Willamette Valley  Willamette Valley        Paul Gregutt   \n",
       "3  Lake Michigan Shore                NaN  Alexander Peartree   \n",
       "4    Willamette Valley  Willamette Valley        Paul Gregutt   \n",
       "\n",
       "  taster_twitter_handle                                              title  \\\n",
       "0          @kerinokeefe                  Nicosia 2013 Vulkà Bianco  (Etna)   \n",
       "1            @vossroger      Quinta dos Avidagos 2011 Avidagos Red (Douro)   \n",
       "2           @paulgwine       Rainstorm 2013 Pinot Gris (Willamette Valley)   \n",
       "3                   NaN  St. Julian 2013 Reserve Late Harvest Riesling ...   \n",
       "4           @paulgwine   Sweet Cheeks 2012 Vintner's Reserve Wild Child...   \n",
       "\n",
       "          variety               winery  \n",
       "0     White Blend              Nicosia  \n",
       "1  Portuguese Red  Quinta dos Avidagos  \n",
       "2      Pinot Gris            Rainstorm  \n",
       "3        Riesling           St. Julian  \n",
       "4      Pinot Noir         Sweet Cheeks  "
      ]
     },
     "execution_count": 2,
     "metadata": {},
     "output_type": "execute_result"
    }
   ],
   "source": [
    "reviews.head()"
   ]
  },
  {
   "cell_type": "markdown",
   "id": "f6cca46e",
   "metadata": {
    "papermill": {
     "duration": 0.007359,
     "end_time": "2023-08-07T07:28:18.127294",
     "exception": false,
     "start_time": "2023-08-07T07:28:18.119935",
     "status": "completed"
    },
    "tags": []
   },
   "source": [
    "## 1.\n",
    "`region_1` and `region_2` are pretty uninformative names for locale columns in the dataset. Create a copy of `reviews` with these columns renamed to `region` and `locale`, respectively."
   ]
  },
  {
   "cell_type": "code",
   "execution_count": 3,
   "id": "d63dfcaa",
   "metadata": {
    "execution": {
     "iopub.execute_input": "2023-08-07T07:28:18.143939Z",
     "iopub.status.busy": "2023-08-07T07:28:18.143496Z",
     "iopub.status.idle": "2023-08-07T07:28:18.181518Z",
     "shell.execute_reply": "2023-08-07T07:28:18.180394Z"
    },
    "papermill": {
     "duration": 0.049088,
     "end_time": "2023-08-07T07:28:18.183913",
     "exception": false,
     "start_time": "2023-08-07T07:28:18.134825",
     "status": "completed"
    },
    "tags": []
   },
   "outputs": [
    {
     "data": {
      "application/javascript": [
       "parent.postMessage({\"jupyterEvent\": \"custom.exercise_interaction\", \"data\": {\"outcomeType\": 1, \"valueTowardsCompletion\": 0.25, \"interactionType\": 1, \"questionType\": 1, \"questionId\": \"1_RenameCols\", \"learnToolsVersion\": \"0.3.4\", \"failureMessage\": \"\", \"exceptionClass\": \"\", \"trace\": \"\"}}, \"*\")"
      ],
      "text/plain": [
       "<IPython.core.display.Javascript object>"
      ]
     },
     "metadata": {},
     "output_type": "display_data"
    },
    {
     "data": {
      "text/markdown": [
       "<span style=\"color:#33cc33\">Correct</span>"
      ],
      "text/plain": [
       "Correct"
      ]
     },
     "metadata": {},
     "output_type": "display_data"
    }
   ],
   "source": [
    "# Your code here\n",
    "renamed = reviews.copy().rename(columns={'region_1':'region', 'region_2':'locale'})\n",
    "\n",
    "# Check your answer\n",
    "q1.check()"
   ]
  },
  {
   "cell_type": "code",
   "execution_count": 4,
   "id": "48f86099",
   "metadata": {
    "execution": {
     "iopub.execute_input": "2023-08-07T07:28:18.201126Z",
     "iopub.status.busy": "2023-08-07T07:28:18.200708Z",
     "iopub.status.idle": "2023-08-07T07:28:18.205432Z",
     "shell.execute_reply": "2023-08-07T07:28:18.204504Z"
    },
    "papermill": {
     "duration": 0.015928,
     "end_time": "2023-08-07T07:28:18.207613",
     "exception": false,
     "start_time": "2023-08-07T07:28:18.191685",
     "status": "completed"
    },
    "tags": []
   },
   "outputs": [],
   "source": [
    "#q1.hint()\n",
    "#q1.solution()"
   ]
  },
  {
   "cell_type": "markdown",
   "id": "663462a4",
   "metadata": {
    "papermill": {
     "duration": 0.007683,
     "end_time": "2023-08-07T07:28:18.224413",
     "exception": false,
     "start_time": "2023-08-07T07:28:18.216730",
     "status": "completed"
    },
    "tags": []
   },
   "source": [
    "## 2.\n",
    "Set the index name in the dataset to `wines`."
   ]
  },
  {
   "cell_type": "code",
   "execution_count": 5,
   "id": "aa4652ea",
   "metadata": {
    "execution": {
     "iopub.execute_input": "2023-08-07T07:28:18.241655Z",
     "iopub.status.busy": "2023-08-07T07:28:18.241275Z",
     "iopub.status.idle": "2023-08-07T07:28:18.260778Z",
     "shell.execute_reply": "2023-08-07T07:28:18.259645Z"
    },
    "papermill": {
     "duration": 0.030872,
     "end_time": "2023-08-07T07:28:18.262948",
     "exception": false,
     "start_time": "2023-08-07T07:28:18.232076",
     "status": "completed"
    },
    "tags": []
   },
   "outputs": [
    {
     "data": {
      "application/javascript": [
       "parent.postMessage({\"jupyterEvent\": \"custom.exercise_interaction\", \"data\": {\"outcomeType\": 1, \"valueTowardsCompletion\": 0.25, \"interactionType\": 1, \"questionType\": 1, \"questionId\": \"2_RenameIndex\", \"learnToolsVersion\": \"0.3.4\", \"failureMessage\": \"\", \"exceptionClass\": \"\", \"trace\": \"\"}}, \"*\")"
      ],
      "text/plain": [
       "<IPython.core.display.Javascript object>"
      ]
     },
     "metadata": {},
     "output_type": "display_data"
    },
    {
     "data": {
      "text/markdown": [
       "<span style=\"color:#33cc33\">Correct</span>"
      ],
      "text/plain": [
       "Correct"
      ]
     },
     "metadata": {},
     "output_type": "display_data"
    }
   ],
   "source": [
    "reindexed = reviews.rename_axis('wines', axis='rows')\n",
    "\n",
    "# Check your answer\n",
    "q2.check()"
   ]
  },
  {
   "cell_type": "code",
   "execution_count": 6,
   "id": "e0ecfc04",
   "metadata": {
    "execution": {
     "iopub.execute_input": "2023-08-07T07:28:18.281614Z",
     "iopub.status.busy": "2023-08-07T07:28:18.280372Z",
     "iopub.status.idle": "2023-08-07T07:28:18.285118Z",
     "shell.execute_reply": "2023-08-07T07:28:18.283979Z"
    },
    "papermill": {
     "duration": 0.016398,
     "end_time": "2023-08-07T07:28:18.287427",
     "exception": false,
     "start_time": "2023-08-07T07:28:18.271029",
     "status": "completed"
    },
    "tags": []
   },
   "outputs": [],
   "source": [
    "# q2.hint()\n",
    "# q2.solution()"
   ]
  },
  {
   "cell_type": "markdown",
   "id": "50e2ccac",
   "metadata": {
    "papermill": {
     "duration": 0.007648,
     "end_time": "2023-08-07T07:28:18.303176",
     "exception": false,
     "start_time": "2023-08-07T07:28:18.295528",
     "status": "completed"
    },
    "tags": []
   },
   "source": [
    "## 3.\n",
    "The [Things on Reddit](https://www.kaggle.com/residentmario/things-on-reddit/data) dataset includes product links from a selection of top-ranked forums (\"subreddits\") on reddit.com. Run the cell below to load a dataframe of products mentioned on the */r/gaming* subreddit and another dataframe for products mentioned on the *r//movies* subreddit."
   ]
  },
  {
   "cell_type": "code",
   "execution_count": 7,
   "id": "74fda5a8",
   "metadata": {
    "execution": {
     "iopub.execute_input": "2023-08-07T07:28:18.322432Z",
     "iopub.status.busy": "2023-08-07T07:28:18.322008Z",
     "iopub.status.idle": "2023-08-07T07:28:18.337209Z",
     "shell.execute_reply": "2023-08-07T07:28:18.336199Z"
    },
    "papermill": {
     "duration": 0.028685,
     "end_time": "2023-08-07T07:28:18.339821",
     "exception": false,
     "start_time": "2023-08-07T07:28:18.311136",
     "status": "completed"
    },
    "tags": []
   },
   "outputs": [],
   "source": [
    "gaming_products = pd.read_csv(\"../input/things-on-reddit/top-things/top-things/reddits/g/gaming.csv\")\n",
    "gaming_products['subreddit'] = \"r/gaming\"\n",
    "movie_products = pd.read_csv(\"../input/things-on-reddit/top-things/top-things/reddits/m/movies.csv\")\n",
    "movie_products['subreddit'] = \"r/movies\""
   ]
  },
  {
   "cell_type": "markdown",
   "id": "7ea96606",
   "metadata": {
    "papermill": {
     "duration": 0.007912,
     "end_time": "2023-08-07T07:28:18.355848",
     "exception": false,
     "start_time": "2023-08-07T07:28:18.347936",
     "status": "completed"
    },
    "tags": []
   },
   "source": [
    "Create a `DataFrame` of products mentioned on *either* subreddit."
   ]
  },
  {
   "cell_type": "code",
   "execution_count": 8,
   "id": "c6c348af",
   "metadata": {
    "execution": {
     "iopub.execute_input": "2023-08-07T07:28:18.373995Z",
     "iopub.status.busy": "2023-08-07T07:28:18.372938Z",
     "iopub.status.idle": "2023-08-07T07:28:18.384833Z",
     "shell.execute_reply": "2023-08-07T07:28:18.383789Z"
    },
    "papermill": {
     "duration": 0.023166,
     "end_time": "2023-08-07T07:28:18.386984",
     "exception": false,
     "start_time": "2023-08-07T07:28:18.363818",
     "status": "completed"
    },
    "tags": []
   },
   "outputs": [
    {
     "data": {
      "application/javascript": [
       "parent.postMessage({\"jupyterEvent\": \"custom.exercise_interaction\", \"data\": {\"outcomeType\": 1, \"valueTowardsCompletion\": 0.25, \"interactionType\": 1, \"questionType\": 2, \"questionId\": \"3_ConcatReddit\", \"learnToolsVersion\": \"0.3.4\", \"failureMessage\": \"\", \"exceptionClass\": \"\", \"trace\": \"\"}}, \"*\")"
      ],
      "text/plain": [
       "<IPython.core.display.Javascript object>"
      ]
     },
     "metadata": {},
     "output_type": "display_data"
    },
    {
     "data": {
      "text/markdown": [
       "<span style=\"color:#33cc33\">Correct</span>"
      ],
      "text/plain": [
       "Correct"
      ]
     },
     "metadata": {},
     "output_type": "display_data"
    }
   ],
   "source": [
    "combined_products = pd.concat([gaming_products,movie_products])\n",
    "\n",
    "# Check your answer\n",
    "q3.check()"
   ]
  },
  {
   "cell_type": "code",
   "execution_count": 9,
   "id": "a729e774",
   "metadata": {
    "execution": {
     "iopub.execute_input": "2023-08-07T07:28:18.405748Z",
     "iopub.status.busy": "2023-08-07T07:28:18.404748Z",
     "iopub.status.idle": "2023-08-07T07:28:18.409268Z",
     "shell.execute_reply": "2023-08-07T07:28:18.408545Z"
    },
    "papermill": {
     "duration": 0.016153,
     "end_time": "2023-08-07T07:28:18.411333",
     "exception": false,
     "start_time": "2023-08-07T07:28:18.395180",
     "status": "completed"
    },
    "tags": []
   },
   "outputs": [],
   "source": [
    "#q3.hint()\n",
    "#q3.solution()"
   ]
  },
  {
   "cell_type": "markdown",
   "id": "9abbbfd8",
   "metadata": {
    "papermill": {
     "duration": 0.007732,
     "end_time": "2023-08-07T07:28:18.427223",
     "exception": false,
     "start_time": "2023-08-07T07:28:18.419491",
     "status": "completed"
    },
    "tags": []
   },
   "source": [
    "## 4.\n",
    "The [Powerlifting Database](https://www.kaggle.com/open-powerlifting/powerlifting-database) dataset on Kaggle includes one CSV table for powerlifting meets and a separate one for powerlifting competitors. Run the cell below to load these datasets into dataframes:"
   ]
  },
  {
   "cell_type": "code",
   "execution_count": 10,
   "id": "4baa15e1",
   "metadata": {
    "execution": {
     "iopub.execute_input": "2023-08-07T07:28:18.445814Z",
     "iopub.status.busy": "2023-08-07T07:28:18.444714Z",
     "iopub.status.idle": "2023-08-07T07:28:19.407719Z",
     "shell.execute_reply": "2023-08-07T07:28:19.406485Z"
    },
    "papermill": {
     "duration": 0.975123,
     "end_time": "2023-08-07T07:28:19.410470",
     "exception": false,
     "start_time": "2023-08-07T07:28:18.435347",
     "status": "completed"
    },
    "tags": []
   },
   "outputs": [],
   "source": [
    "powerlifting_meets = pd.read_csv(\"../input/powerlifting-database/meets.csv\")\n",
    "powerlifting_competitors = pd.read_csv(\"../input/powerlifting-database/openpowerlifting.csv\")"
   ]
  },
  {
   "cell_type": "markdown",
   "id": "12b490cc",
   "metadata": {
    "papermill": {
     "duration": 0.008261,
     "end_time": "2023-08-07T07:28:19.427356",
     "exception": false,
     "start_time": "2023-08-07T07:28:19.419095",
     "status": "completed"
    },
    "tags": []
   },
   "source": [
    "Both tables include references to a `MeetID`, a unique key for each meet (competition) included in the database. Using this, generate a dataset combining the two tables into one."
   ]
  },
  {
   "cell_type": "code",
   "execution_count": 11,
   "id": "31338be2",
   "metadata": {
    "execution": {
     "iopub.execute_input": "2023-08-07T07:28:19.445139Z",
     "iopub.status.busy": "2023-08-07T07:28:19.444752Z",
     "iopub.status.idle": "2023-08-07T07:28:20.781023Z",
     "shell.execute_reply": "2023-08-07T07:28:20.779953Z"
    },
    "papermill": {
     "duration": 1.347676,
     "end_time": "2023-08-07T07:28:20.783204",
     "exception": false,
     "start_time": "2023-08-07T07:28:19.435528",
     "status": "completed"
    },
    "tags": []
   },
   "outputs": [
    {
     "data": {
      "application/javascript": [
       "parent.postMessage({\"jupyterEvent\": \"custom.exercise_interaction\", \"data\": {\"outcomeType\": 1, \"valueTowardsCompletion\": 0.25, \"interactionType\": 1, \"questionType\": 2, \"questionId\": \"4_JoinLifting\", \"learnToolsVersion\": \"0.3.4\", \"failureMessage\": \"\", \"exceptionClass\": \"\", \"trace\": \"\"}}, \"*\")"
      ],
      "text/plain": [
       "<IPython.core.display.Javascript object>"
      ]
     },
     "metadata": {},
     "output_type": "display_data"
    },
    {
     "data": {
      "text/markdown": [
       "<span style=\"color:#33cc33\">Correct</span>"
      ],
      "text/plain": [
       "Correct"
      ]
     },
     "metadata": {},
     "output_type": "display_data"
    }
   ],
   "source": [
    "powerlifting_combined = powerlifting_meets.set_index(\"MeetID\").join(powerlifting_competitors.set_index(\"MeetID\"))\n",
    "\n",
    "# Check your answer\n",
    "q4.check()"
   ]
  },
  {
   "cell_type": "code",
   "execution_count": 12,
   "id": "9e783bcc",
   "metadata": {
    "execution": {
     "iopub.execute_input": "2023-08-07T07:28:20.802029Z",
     "iopub.status.busy": "2023-08-07T07:28:20.801655Z",
     "iopub.status.idle": "2023-08-07T07:28:20.805996Z",
     "shell.execute_reply": "2023-08-07T07:28:20.804892Z"
    },
    "papermill": {
     "duration": 0.016287,
     "end_time": "2023-08-07T07:28:20.808047",
     "exception": false,
     "start_time": "2023-08-07T07:28:20.791760",
     "status": "completed"
    },
    "tags": []
   },
   "outputs": [],
   "source": [
    "# q4.hint()\n",
    "# q4.solution()"
   ]
  },
  {
   "cell_type": "markdown",
   "id": "5d485f4f",
   "metadata": {
    "papermill": {
     "duration": 0.00815,
     "end_time": "2023-08-07T07:28:20.824663",
     "exception": false,
     "start_time": "2023-08-07T07:28:20.816513",
     "status": "completed"
    },
    "tags": []
   },
   "source": [
    "# Congratulations!\n",
    "\n",
    "You've finished the Pandas micro-course.  Many data scientists feel efficiency with Pandas is the most useful and practical skill they have, because it allows you to progress quickly in any project you have.\n",
    "\n",
    "If you'd like to apply your new skills to examining geospatial data, you're encouraged to check out our **[Geospatial Analysis](https://www.kaggle.com/learn/geospatial-analysis)** micro-course.\n",
    "\n",
    "You can also take advantage of your Pandas skills by entering a **[Kaggle Competition](https://www.kaggle.com/competitions)** or by answering a question you find interesting using **[Kaggle Datasets](https://www.kaggle.com/datasets)**."
   ]
  },
  {
   "cell_type": "markdown",
   "id": "a7fe62f3",
   "metadata": {
    "papermill": {
     "duration": 0.008105,
     "end_time": "2023-08-07T07:28:20.841112",
     "exception": false,
     "start_time": "2023-08-07T07:28:20.833007",
     "status": "completed"
    },
    "tags": []
   },
   "source": [
    "---\n",
    "\n",
    "\n",
    "\n",
    "\n",
    "*Have questions or comments? Visit the [course discussion forum](https://www.kaggle.com/learn/pandas/discussion) to chat with other learners.*"
   ]
  }
 ],
 "metadata": {
  "kernelspec": {
   "display_name": "Python 3",
   "language": "python",
   "name": "python3"
  },
  "language_info": {
   "codemirror_mode": {
    "name": "ipython",
    "version": 3
   },
   "file_extension": ".py",
   "mimetype": "text/x-python",
   "name": "python",
   "nbconvert_exporter": "python",
   "pygments_lexer": "ipython3",
   "version": "3.10.12"
  },
  "papermill": {
   "default_parameters": {},
   "duration": 19.028844,
   "end_time": "2023-08-07T07:28:21.771302",
   "environment_variables": {},
   "exception": null,
   "input_path": "__notebook__.ipynb",
   "output_path": "__notebook__.ipynb",
   "parameters": {},
   "start_time": "2023-08-07T07:28:02.742458",
   "version": "2.4.0"
  }
 },
 "nbformat": 4,
 "nbformat_minor": 5
}
