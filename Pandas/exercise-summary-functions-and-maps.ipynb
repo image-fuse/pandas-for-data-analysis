{
 "cells": [
  {
   "cell_type": "markdown",
   "id": "2005287b",
   "metadata": {
    "papermill": {
     "duration": 0.005908,
     "end_time": "2023-08-07T06:37:20.229256",
     "exception": false,
     "start_time": "2023-08-07T06:37:20.223348",
     "status": "completed"
    },
    "tags": []
   },
   "source": [
    "**This notebook is an exercise in the [Pandas](https://www.kaggle.com/learn/pandas) course.  You can reference the tutorial at [this link](https://www.kaggle.com/residentmario/summary-functions-and-maps).**\n",
    "\n",
    "---\n"
   ]
  },
  {
   "cell_type": "markdown",
   "id": "7fe3c570",
   "metadata": {
    "papermill": {
     "duration": 0.005233,
     "end_time": "2023-08-07T06:37:20.239984",
     "exception": false,
     "start_time": "2023-08-07T06:37:20.234751",
     "status": "completed"
    },
    "tags": []
   },
   "source": [
    "# Introduction\n",
    "\n",
    "Now you are ready to get a deeper understanding of your data.\n",
    "\n",
    "Run the following cell to load your data and some utility functions (including code to check your answers)."
   ]
  },
  {
   "cell_type": "code",
   "execution_count": 1,
   "id": "c82a09ee",
   "metadata": {
    "execution": {
     "iopub.execute_input": "2023-08-07T06:37:20.252958Z",
     "iopub.status.busy": "2023-08-07T06:37:20.252463Z",
     "iopub.status.idle": "2023-08-07T06:37:26.166789Z",
     "shell.execute_reply": "2023-08-07T06:37:26.165351Z"
    },
    "papermill": {
     "duration": 5.923457,
     "end_time": "2023-08-07T06:37:26.168836",
     "exception": false,
     "start_time": "2023-08-07T06:37:20.245379",
     "status": "completed"
    },
    "tags": []
   },
   "outputs": [
    {
     "name": "stdout",
     "output_type": "stream",
     "text": [
      "Setup complete.\n"
     ]
    },
    {
     "data": {
      "text/html": [
       "<div>\n",
       "<style scoped>\n",
       "    .dataframe tbody tr th:only-of-type {\n",
       "        vertical-align: middle;\n",
       "    }\n",
       "\n",
       "    .dataframe tbody tr th {\n",
       "        vertical-align: top;\n",
       "    }\n",
       "\n",
       "    .dataframe thead th {\n",
       "        text-align: right;\n",
       "    }\n",
       "</style>\n",
       "<table border=\"1\" class=\"dataframe\">\n",
       "  <thead>\n",
       "    <tr style=\"text-align: right;\">\n",
       "      <th></th>\n",
       "      <th>country</th>\n",
       "      <th>description</th>\n",
       "      <th>designation</th>\n",
       "      <th>points</th>\n",
       "      <th>price</th>\n",
       "      <th>province</th>\n",
       "      <th>region_1</th>\n",
       "      <th>region_2</th>\n",
       "      <th>taster_name</th>\n",
       "      <th>taster_twitter_handle</th>\n",
       "      <th>title</th>\n",
       "      <th>variety</th>\n",
       "      <th>winery</th>\n",
       "    </tr>\n",
       "  </thead>\n",
       "  <tbody>\n",
       "    <tr>\n",
       "      <th>0</th>\n",
       "      <td>Italy</td>\n",
       "      <td>Aromas include tropical fruit, broom, brimston...</td>\n",
       "      <td>Vulkà Bianco</td>\n",
       "      <td>87</td>\n",
       "      <td>NaN</td>\n",
       "      <td>Sicily &amp; Sardinia</td>\n",
       "      <td>Etna</td>\n",
       "      <td>NaN</td>\n",
       "      <td>Kerin O’Keefe</td>\n",
       "      <td>@kerinokeefe</td>\n",
       "      <td>Nicosia 2013 Vulkà Bianco  (Etna)</td>\n",
       "      <td>White Blend</td>\n",
       "      <td>Nicosia</td>\n",
       "    </tr>\n",
       "    <tr>\n",
       "      <th>1</th>\n",
       "      <td>Portugal</td>\n",
       "      <td>This is ripe and fruity, a wine that is smooth...</td>\n",
       "      <td>Avidagos</td>\n",
       "      <td>87</td>\n",
       "      <td>15.0</td>\n",
       "      <td>Douro</td>\n",
       "      <td>NaN</td>\n",
       "      <td>NaN</td>\n",
       "      <td>Roger Voss</td>\n",
       "      <td>@vossroger</td>\n",
       "      <td>Quinta dos Avidagos 2011 Avidagos Red (Douro)</td>\n",
       "      <td>Portuguese Red</td>\n",
       "      <td>Quinta dos Avidagos</td>\n",
       "    </tr>\n",
       "    <tr>\n",
       "      <th>2</th>\n",
       "      <td>US</td>\n",
       "      <td>Tart and snappy, the flavors of lime flesh and...</td>\n",
       "      <td>NaN</td>\n",
       "      <td>87</td>\n",
       "      <td>14.0</td>\n",
       "      <td>Oregon</td>\n",
       "      <td>Willamette Valley</td>\n",
       "      <td>Willamette Valley</td>\n",
       "      <td>Paul Gregutt</td>\n",
       "      <td>@paulgwine</td>\n",
       "      <td>Rainstorm 2013 Pinot Gris (Willamette Valley)</td>\n",
       "      <td>Pinot Gris</td>\n",
       "      <td>Rainstorm</td>\n",
       "    </tr>\n",
       "    <tr>\n",
       "      <th>3</th>\n",
       "      <td>US</td>\n",
       "      <td>Pineapple rind, lemon pith and orange blossom ...</td>\n",
       "      <td>Reserve Late Harvest</td>\n",
       "      <td>87</td>\n",
       "      <td>13.0</td>\n",
       "      <td>Michigan</td>\n",
       "      <td>Lake Michigan Shore</td>\n",
       "      <td>NaN</td>\n",
       "      <td>Alexander Peartree</td>\n",
       "      <td>NaN</td>\n",
       "      <td>St. Julian 2013 Reserve Late Harvest Riesling ...</td>\n",
       "      <td>Riesling</td>\n",
       "      <td>St. Julian</td>\n",
       "    </tr>\n",
       "    <tr>\n",
       "      <th>4</th>\n",
       "      <td>US</td>\n",
       "      <td>Much like the regular bottling from 2012, this...</td>\n",
       "      <td>Vintner's Reserve Wild Child Block</td>\n",
       "      <td>87</td>\n",
       "      <td>65.0</td>\n",
       "      <td>Oregon</td>\n",
       "      <td>Willamette Valley</td>\n",
       "      <td>Willamette Valley</td>\n",
       "      <td>Paul Gregutt</td>\n",
       "      <td>@paulgwine</td>\n",
       "      <td>Sweet Cheeks 2012 Vintner's Reserve Wild Child...</td>\n",
       "      <td>Pinot Noir</td>\n",
       "      <td>Sweet Cheeks</td>\n",
       "    </tr>\n",
       "  </tbody>\n",
       "</table>\n",
       "</div>"
      ],
      "text/plain": [
       "    country                                        description  \\\n",
       "0     Italy  Aromas include tropical fruit, broom, brimston...   \n",
       "1  Portugal  This is ripe and fruity, a wine that is smooth...   \n",
       "2        US  Tart and snappy, the flavors of lime flesh and...   \n",
       "3        US  Pineapple rind, lemon pith and orange blossom ...   \n",
       "4        US  Much like the regular bottling from 2012, this...   \n",
       "\n",
       "                          designation  points  price           province  \\\n",
       "0                        Vulkà Bianco      87    NaN  Sicily & Sardinia   \n",
       "1                            Avidagos      87   15.0              Douro   \n",
       "2                                 NaN      87   14.0             Oregon   \n",
       "3                Reserve Late Harvest      87   13.0           Michigan   \n",
       "4  Vintner's Reserve Wild Child Block      87   65.0             Oregon   \n",
       "\n",
       "              region_1           region_2         taster_name  \\\n",
       "0                 Etna                NaN       Kerin O’Keefe   \n",
       "1                  NaN                NaN          Roger Voss   \n",
       "2    Willamette Valley  Willamette Valley        Paul Gregutt   \n",
       "3  Lake Michigan Shore                NaN  Alexander Peartree   \n",
       "4    Willamette Valley  Willamette Valley        Paul Gregutt   \n",
       "\n",
       "  taster_twitter_handle                                              title  \\\n",
       "0          @kerinokeefe                  Nicosia 2013 Vulkà Bianco  (Etna)   \n",
       "1            @vossroger      Quinta dos Avidagos 2011 Avidagos Red (Douro)   \n",
       "2           @paulgwine       Rainstorm 2013 Pinot Gris (Willamette Valley)   \n",
       "3                   NaN  St. Julian 2013 Reserve Late Harvest Riesling ...   \n",
       "4           @paulgwine   Sweet Cheeks 2012 Vintner's Reserve Wild Child...   \n",
       "\n",
       "          variety               winery  \n",
       "0     White Blend              Nicosia  \n",
       "1  Portuguese Red  Quinta dos Avidagos  \n",
       "2      Pinot Gris            Rainstorm  \n",
       "3        Riesling           St. Julian  \n",
       "4      Pinot Noir         Sweet Cheeks  "
      ]
     },
     "execution_count": 1,
     "metadata": {},
     "output_type": "execute_result"
    }
   ],
   "source": [
    "import pandas as pd\n",
    "pd.set_option(\"display.max_rows\", 5)\n",
    "reviews = pd.read_csv(\"../input/wine-reviews/winemag-data-130k-v2.csv\", index_col=0)\n",
    "\n",
    "from learntools.core import binder; binder.bind(globals())\n",
    "from learntools.pandas.summary_functions_and_maps import *\n",
    "print(\"Setup complete.\")\n",
    "\n",
    "reviews.head()"
   ]
  },
  {
   "cell_type": "markdown",
   "id": "8aa4c4b5",
   "metadata": {
    "papermill": {
     "duration": 0.005428,
     "end_time": "2023-08-07T06:37:26.180112",
     "exception": false,
     "start_time": "2023-08-07T06:37:26.174684",
     "status": "completed"
    },
    "tags": []
   },
   "source": [
    "# Exercises"
   ]
  },
  {
   "cell_type": "markdown",
   "id": "7aa7041a",
   "metadata": {
    "papermill": {
     "duration": 0.005331,
     "end_time": "2023-08-07T06:37:26.190917",
     "exception": false,
     "start_time": "2023-08-07T06:37:26.185586",
     "status": "completed"
    },
    "tags": []
   },
   "source": [
    "## 1.\n",
    "\n",
    "What is the median of the `points` column in the `reviews` DataFrame?"
   ]
  },
  {
   "cell_type": "code",
   "execution_count": 2,
   "id": "b2d70ca2",
   "metadata": {
    "execution": {
     "iopub.execute_input": "2023-08-07T06:37:26.203397Z",
     "iopub.status.busy": "2023-08-07T06:37:26.203031Z",
     "iopub.status.idle": "2023-08-07T06:37:26.211719Z",
     "shell.execute_reply": "2023-08-07T06:37:26.210785Z"
    },
    "papermill": {
     "duration": 0.017228,
     "end_time": "2023-08-07T06:37:26.213619",
     "exception": false,
     "start_time": "2023-08-07T06:37:26.196391",
     "status": "completed"
    },
    "tags": []
   },
   "outputs": [
    {
     "data": {
      "application/javascript": [
       "parent.postMessage({\"jupyterEvent\": \"custom.exercise_interaction\", \"data\": {\"outcomeType\": 1, \"valueTowardsCompletion\": 0.14285714285714285, \"interactionType\": 1, \"questionType\": 1, \"questionId\": \"1_MedianPoints\", \"learnToolsVersion\": \"0.3.4\", \"failureMessage\": \"\", \"exceptionClass\": \"\", \"trace\": \"\"}}, \"*\")"
      ],
      "text/plain": [
       "<IPython.core.display.Javascript object>"
      ]
     },
     "metadata": {},
     "output_type": "display_data"
    },
    {
     "data": {
      "text/markdown": [
       "<span style=\"color:#33cc33\">Correct</span>"
      ],
      "text/plain": [
       "Correct"
      ]
     },
     "metadata": {},
     "output_type": "display_data"
    }
   ],
   "source": [
    "median_points = reviews.points.median()\n",
    "\n",
    "# Check your answer\n",
    "q1.check()"
   ]
  },
  {
   "cell_type": "code",
   "execution_count": 3,
   "id": "a670b5ee",
   "metadata": {
    "execution": {
     "iopub.execute_input": "2023-08-07T06:37:26.226596Z",
     "iopub.status.busy": "2023-08-07T06:37:26.226261Z",
     "iopub.status.idle": "2023-08-07T06:37:26.230530Z",
     "shell.execute_reply": "2023-08-07T06:37:26.229445Z"
    },
    "papermill": {
     "duration": 0.013094,
     "end_time": "2023-08-07T06:37:26.232624",
     "exception": false,
     "start_time": "2023-08-07T06:37:26.219530",
     "status": "completed"
    },
    "tags": []
   },
   "outputs": [],
   "source": [
    "#q1.hint()\n",
    "#q1.solution()"
   ]
  },
  {
   "cell_type": "markdown",
   "id": "ebf478bc",
   "metadata": {
    "papermill": {
     "duration": 0.007158,
     "end_time": "2023-08-07T06:37:26.245857",
     "exception": false,
     "start_time": "2023-08-07T06:37:26.238699",
     "status": "completed"
    },
    "tags": []
   },
   "source": [
    "## 2. \n",
    "What countries are represented in the dataset? (Your answer should not include any duplicates.)"
   ]
  },
  {
   "cell_type": "code",
   "execution_count": 4,
   "id": "833bb7a3",
   "metadata": {
    "execution": {
     "iopub.execute_input": "2023-08-07T06:37:26.259170Z",
     "iopub.status.busy": "2023-08-07T06:37:26.258777Z",
     "iopub.status.idle": "2023-08-07T06:37:26.274393Z",
     "shell.execute_reply": "2023-08-07T06:37:26.273333Z"
    },
    "papermill": {
     "duration": 0.025416,
     "end_time": "2023-08-07T06:37:26.277095",
     "exception": false,
     "start_time": "2023-08-07T06:37:26.251679",
     "status": "completed"
    },
    "tags": []
   },
   "outputs": [
    {
     "data": {
      "application/javascript": [
       "parent.postMessage({\"jupyterEvent\": \"custom.exercise_interaction\", \"data\": {\"outcomeType\": 1, \"valueTowardsCompletion\": 0.14285714285714285, \"interactionType\": 1, \"questionType\": 2, \"questionId\": \"2_UniqueCountries\", \"learnToolsVersion\": \"0.3.4\", \"failureMessage\": \"\", \"exceptionClass\": \"\", \"trace\": \"\"}}, \"*\")"
      ],
      "text/plain": [
       "<IPython.core.display.Javascript object>"
      ]
     },
     "metadata": {},
     "output_type": "display_data"
    },
    {
     "data": {
      "text/markdown": [
       "<span style=\"color:#33cc33\">Correct</span>"
      ],
      "text/plain": [
       "Correct"
      ]
     },
     "metadata": {},
     "output_type": "display_data"
    }
   ],
   "source": [
    "countries = reviews.country.unique()\n",
    "\n",
    "# Check your answer\n",
    "q2.check()"
   ]
  },
  {
   "cell_type": "code",
   "execution_count": 5,
   "id": "40ce3f4e",
   "metadata": {
    "execution": {
     "iopub.execute_input": "2023-08-07T06:37:26.291625Z",
     "iopub.status.busy": "2023-08-07T06:37:26.291224Z",
     "iopub.status.idle": "2023-08-07T06:37:26.295116Z",
     "shell.execute_reply": "2023-08-07T06:37:26.294304Z"
    },
    "papermill": {
     "duration": 0.013726,
     "end_time": "2023-08-07T06:37:26.297365",
     "exception": false,
     "start_time": "2023-08-07T06:37:26.283639",
     "status": "completed"
    },
    "tags": []
   },
   "outputs": [],
   "source": [
    "#q2.hint()\n",
    "#q2.solution()"
   ]
  },
  {
   "cell_type": "markdown",
   "id": "76e459bf",
   "metadata": {
    "papermill": {
     "duration": 0.005698,
     "end_time": "2023-08-07T06:37:26.309237",
     "exception": false,
     "start_time": "2023-08-07T06:37:26.303539",
     "status": "completed"
    },
    "tags": []
   },
   "source": [
    "## 3.\n",
    "How often does each country appear in the dataset? Create a Series `reviews_per_country` mapping countries to the count of reviews of wines from that country."
   ]
  },
  {
   "cell_type": "code",
   "execution_count": 6,
   "id": "fe108d0e",
   "metadata": {
    "execution": {
     "iopub.execute_input": "2023-08-07T06:37:26.323435Z",
     "iopub.status.busy": "2023-08-07T06:37:26.323070Z",
     "iopub.status.idle": "2023-08-07T06:37:26.338559Z",
     "shell.execute_reply": "2023-08-07T06:37:26.337228Z"
    },
    "papermill": {
     "duration": 0.025736,
     "end_time": "2023-08-07T06:37:26.341173",
     "exception": false,
     "start_time": "2023-08-07T06:37:26.315437",
     "status": "completed"
    },
    "tags": []
   },
   "outputs": [
    {
     "data": {
      "application/javascript": [
       "parent.postMessage({\"jupyterEvent\": \"custom.exercise_interaction\", \"data\": {\"outcomeType\": 1, \"valueTowardsCompletion\": 0.14285714285714285, \"interactionType\": 1, \"questionType\": 1, \"questionId\": \"3_ReviewsPerCountry\", \"learnToolsVersion\": \"0.3.4\", \"failureMessage\": \"\", \"exceptionClass\": \"\", \"trace\": \"\"}}, \"*\")"
      ],
      "text/plain": [
       "<IPython.core.display.Javascript object>"
      ]
     },
     "metadata": {},
     "output_type": "display_data"
    },
    {
     "data": {
      "text/markdown": [
       "<span style=\"color:#33cc33\">Correct</span>"
      ],
      "text/plain": [
       "Correct"
      ]
     },
     "metadata": {},
     "output_type": "display_data"
    }
   ],
   "source": [
    "reviews_per_country = reviews.country.value_counts()\n",
    "\n",
    "# Check your answer\n",
    "q3.check()"
   ]
  },
  {
   "cell_type": "code",
   "execution_count": 7,
   "id": "3eeef21a",
   "metadata": {
    "execution": {
     "iopub.execute_input": "2023-08-07T06:37:26.355407Z",
     "iopub.status.busy": "2023-08-07T06:37:26.355086Z",
     "iopub.status.idle": "2023-08-07T06:37:26.359553Z",
     "shell.execute_reply": "2023-08-07T06:37:26.358136Z"
    },
    "papermill": {
     "duration": 0.014469,
     "end_time": "2023-08-07T06:37:26.362033",
     "exception": false,
     "start_time": "2023-08-07T06:37:26.347564",
     "status": "completed"
    },
    "tags": []
   },
   "outputs": [],
   "source": [
    "#q3.hint()\n",
    "#q3.solution()"
   ]
  },
  {
   "cell_type": "markdown",
   "id": "68e96c70",
   "metadata": {
    "papermill": {
     "duration": 0.006017,
     "end_time": "2023-08-07T06:37:26.374665",
     "exception": false,
     "start_time": "2023-08-07T06:37:26.368648",
     "status": "completed"
    },
    "tags": []
   },
   "source": [
    "## 4.\n",
    "Create variable `centered_price` containing a version of the `price` column with the mean price subtracted.\n",
    "\n",
    "(Note: this 'centering' transformation is a common preprocessing step before applying various machine learning algorithms.) "
   ]
  },
  {
   "cell_type": "code",
   "execution_count": 8,
   "id": "91531841",
   "metadata": {
    "execution": {
     "iopub.execute_input": "2023-08-07T06:37:26.388736Z",
     "iopub.status.busy": "2023-08-07T06:37:26.388381Z",
     "iopub.status.idle": "2023-08-07T06:38:07.982627Z",
     "shell.execute_reply": "2023-08-07T06:38:07.982023Z"
    },
    "papermill": {
     "duration": 41.609014,
     "end_time": "2023-08-07T06:38:07.989941",
     "exception": false,
     "start_time": "2023-08-07T06:37:26.380927",
     "status": "completed"
    },
    "tags": []
   },
   "outputs": [
    {
     "data": {
      "application/javascript": [
       "parent.postMessage({\"jupyterEvent\": \"custom.exercise_interaction\", \"data\": {\"outcomeType\": 1, \"valueTowardsCompletion\": 0.14285714285714285, \"interactionType\": 1, \"questionType\": 1, \"questionId\": \"4_CenteredPrice\", \"learnToolsVersion\": \"0.3.4\", \"failureMessage\": \"\", \"exceptionClass\": \"\", \"trace\": \"\"}}, \"*\")"
      ],
      "text/plain": [
       "<IPython.core.display.Javascript object>"
      ]
     },
     "metadata": {},
     "output_type": "display_data"
    },
    {
     "data": {
      "text/markdown": [
       "<span style=\"color:#33cc33\">Correct</span>"
      ],
      "text/plain": [
       "Correct"
      ]
     },
     "metadata": {},
     "output_type": "display_data"
    }
   ],
   "source": [
    "centered_price = reviews.price.map(lambda p: p - reviews.price.mean())\n",
    "\n",
    "# Check your answer\n",
    "q4.check()"
   ]
  },
  {
   "cell_type": "code",
   "execution_count": 9,
   "id": "f745a016",
   "metadata": {
    "execution": {
     "iopub.execute_input": "2023-08-07T06:38:08.004456Z",
     "iopub.status.busy": "2023-08-07T06:38:08.003869Z",
     "iopub.status.idle": "2023-08-07T06:38:08.008201Z",
     "shell.execute_reply": "2023-08-07T06:38:08.007212Z"
    },
    "papermill": {
     "duration": 0.013711,
     "end_time": "2023-08-07T06:38:08.009978",
     "exception": false,
     "start_time": "2023-08-07T06:38:07.996267",
     "status": "completed"
    },
    "tags": []
   },
   "outputs": [],
   "source": [
    "#q4.hint()\n",
    "#q4.solution()"
   ]
  },
  {
   "cell_type": "markdown",
   "id": "5cdfc5e2",
   "metadata": {
    "papermill": {
     "duration": 0.006287,
     "end_time": "2023-08-07T06:38:08.022847",
     "exception": false,
     "start_time": "2023-08-07T06:38:08.016560",
     "status": "completed"
    },
    "tags": []
   },
   "source": [
    "## 5.\n",
    "I'm an economical wine buyer. Which wine is the \"best bargain\"? Create a variable `bargain_wine` with the title of the wine with the highest points-to-price ratio in the dataset."
   ]
  },
  {
   "cell_type": "code",
   "execution_count": 10,
   "id": "262f1c08",
   "metadata": {
    "execution": {
     "iopub.execute_input": "2023-08-07T06:38:08.037531Z",
     "iopub.status.busy": "2023-08-07T06:38:08.037159Z",
     "iopub.status.idle": "2023-08-07T06:38:08.052319Z",
     "shell.execute_reply": "2023-08-07T06:38:08.050767Z"
    },
    "papermill": {
     "duration": 0.026208,
     "end_time": "2023-08-07T06:38:08.055387",
     "exception": false,
     "start_time": "2023-08-07T06:38:08.029179",
     "status": "completed"
    },
    "tags": []
   },
   "outputs": [
    {
     "data": {
      "application/javascript": [
       "parent.postMessage({\"jupyterEvent\": \"custom.exercise_interaction\", \"data\": {\"outcomeType\": 1, \"valueTowardsCompletion\": 0.14285714285714285, \"interactionType\": 1, \"questionType\": 2, \"questionId\": \"5_BargainWine\", \"learnToolsVersion\": \"0.3.4\", \"failureMessage\": \"\", \"exceptionClass\": \"\", \"trace\": \"\"}}, \"*\")"
      ],
      "text/plain": [
       "<IPython.core.display.Javascript object>"
      ]
     },
     "metadata": {},
     "output_type": "display_data"
    },
    {
     "data": {
      "text/markdown": [
       "<span style=\"color:#33cc33\">Correct</span>"
      ],
      "text/plain": [
       "Correct"
      ]
     },
     "metadata": {},
     "output_type": "display_data"
    }
   ],
   "source": [
    "bargain_idx = (reviews.points / reviews.price).idxmax()\n",
    "bargain_wine = reviews.loc[bargain_idx, 'title']\n",
    "\n",
    "# Check your answer\n",
    "q5.check()"
   ]
  },
  {
   "cell_type": "code",
   "execution_count": 11,
   "id": "da2c8361",
   "metadata": {
    "execution": {
     "iopub.execute_input": "2023-08-07T06:38:08.071410Z",
     "iopub.status.busy": "2023-08-07T06:38:08.071015Z",
     "iopub.status.idle": "2023-08-07T06:38:08.076097Z",
     "shell.execute_reply": "2023-08-07T06:38:08.074865Z"
    },
    "papermill": {
     "duration": 0.01634,
     "end_time": "2023-08-07T06:38:08.078779",
     "exception": false,
     "start_time": "2023-08-07T06:38:08.062439",
     "status": "completed"
    },
    "tags": []
   },
   "outputs": [],
   "source": [
    "# q5.hint()\n",
    "# q5.solution()"
   ]
  },
  {
   "cell_type": "markdown",
   "id": "feadeb53",
   "metadata": {
    "papermill": {
     "duration": 0.006754,
     "end_time": "2023-08-07T06:38:08.092528",
     "exception": false,
     "start_time": "2023-08-07T06:38:08.085774",
     "status": "completed"
    },
    "tags": []
   },
   "source": [
    "## 6.\n",
    "There are only so many words you can use when describing a bottle of wine. Is a wine more likely to be \"tropical\" or \"fruity\"? Create a Series `descriptor_counts` counting how many times each of these two words appears in the `description` column in the dataset. (For simplicity, let's ignore the capitalized versions of these words.)"
   ]
  },
  {
   "cell_type": "code",
   "execution_count": 12,
   "id": "35f0f1b9",
   "metadata": {
    "execution": {
     "iopub.execute_input": "2023-08-07T06:38:08.107679Z",
     "iopub.status.busy": "2023-08-07T06:38:08.107347Z",
     "iopub.status.idle": "2023-08-07T06:38:08.221718Z",
     "shell.execute_reply": "2023-08-07T06:38:08.220791Z"
    },
    "papermill": {
     "duration": 0.124362,
     "end_time": "2023-08-07T06:38:08.223716",
     "exception": false,
     "start_time": "2023-08-07T06:38:08.099354",
     "status": "completed"
    },
    "tags": []
   },
   "outputs": [
    {
     "data": {
      "application/javascript": [
       "parent.postMessage({\"jupyterEvent\": \"custom.exercise_interaction\", \"data\": {\"outcomeType\": 1, \"valueTowardsCompletion\": 0.14285714285714285, \"interactionType\": 1, \"questionType\": 1, \"questionId\": \"6_DescriptorCounts\", \"learnToolsVersion\": \"0.3.4\", \"failureMessage\": \"\", \"exceptionClass\": \"\", \"trace\": \"\"}}, \"*\")"
      ],
      "text/plain": [
       "<IPython.core.display.Javascript object>"
      ]
     },
     "metadata": {},
     "output_type": "display_data"
    },
    {
     "data": {
      "text/markdown": [
       "<span style=\"color:#33cc33\">Correct</span>"
      ],
      "text/plain": [
       "Correct"
      ]
     },
     "metadata": {},
     "output_type": "display_data"
    }
   ],
   "source": [
    "n_trop = reviews.description.map(lambda desc: \"tropical\" in desc).sum()\n",
    "n_fruity = reviews.description.map(lambda desc: \"fruity\" in desc).sum()\n",
    "descriptor_counts = pd.Series([n_trop, n_fruity], index=['tropical', 'fruity'])\n",
    "\n",
    "# Check your answer\n",
    "q6.check()"
   ]
  },
  {
   "cell_type": "code",
   "execution_count": 13,
   "id": "d861067f",
   "metadata": {
    "execution": {
     "iopub.execute_input": "2023-08-07T06:38:08.238949Z",
     "iopub.status.busy": "2023-08-07T06:38:08.238549Z",
     "iopub.status.idle": "2023-08-07T06:38:08.243241Z",
     "shell.execute_reply": "2023-08-07T06:38:08.242224Z"
    },
    "papermill": {
     "duration": 0.01462,
     "end_time": "2023-08-07T06:38:08.245218",
     "exception": false,
     "start_time": "2023-08-07T06:38:08.230598",
     "status": "completed"
    },
    "tags": []
   },
   "outputs": [],
   "source": [
    "# q6.hint()\n",
    "# q6.solution()"
   ]
  },
  {
   "cell_type": "markdown",
   "id": "a4246992",
   "metadata": {
    "papermill": {
     "duration": 0.006867,
     "end_time": "2023-08-07T06:38:08.259210",
     "exception": false,
     "start_time": "2023-08-07T06:38:08.252343",
     "status": "completed"
    },
    "tags": []
   },
   "source": [
    "## 7.\n",
    "We'd like to host these wine reviews on our website, but a rating system ranging from 80 to 100 points is too hard to understand - we'd like to translate them into simple star ratings. A score of 95 or higher counts as 3 stars, a score of at least 85 but less than 95 is 2 stars. Any other score is 1 star.\n",
    "\n",
    "Also, the Canadian Vintners Association bought a lot of ads on the site, so any wines from Canada should automatically get 3 stars, regardless of points.\n",
    "\n",
    "Create a series `star_ratings` with the number of stars corresponding to each review in the dataset."
   ]
  },
  {
   "cell_type": "code",
   "execution_count": 14,
   "id": "9587a048",
   "metadata": {
    "execution": {
     "iopub.execute_input": "2023-08-07T06:38:08.274997Z",
     "iopub.status.busy": "2023-08-07T06:38:08.274576Z",
     "iopub.status.idle": "2023-08-07T06:38:11.301294Z",
     "shell.execute_reply": "2023-08-07T06:38:11.300411Z"
    },
    "papermill": {
     "duration": 3.037596,
     "end_time": "2023-08-07T06:38:11.303665",
     "exception": false,
     "start_time": "2023-08-07T06:38:08.266069",
     "status": "completed"
    },
    "tags": []
   },
   "outputs": [
    {
     "data": {
      "application/javascript": [
       "parent.postMessage({\"jupyterEvent\": \"custom.exercise_interaction\", \"data\": {\"outcomeType\": 1, \"valueTowardsCompletion\": 0.14285714285714285, \"interactionType\": 1, \"questionType\": 1, \"questionId\": \"7_StarRatings\", \"learnToolsVersion\": \"0.3.4\", \"failureMessage\": \"\", \"exceptionClass\": \"\", \"trace\": \"\"}}, \"*\")"
      ],
      "text/plain": [
       "<IPython.core.display.Javascript object>"
      ]
     },
     "metadata": {},
     "output_type": "display_data"
    },
    {
     "data": {
      "text/markdown": [
       "<span style=\"color:#33cc33\">Correct</span>"
      ],
      "text/plain": [
       "Correct"
      ]
     },
     "metadata": {},
     "output_type": "display_data"
    }
   ],
   "source": [
    "def stars(row):\n",
    "    if row.country == 'Canada':\n",
    "        return 3\n",
    "    elif row.points >= 95:\n",
    "        return 3\n",
    "    elif row.points >= 85:\n",
    "        return 2\n",
    "    else:\n",
    "        return 1\n",
    "\n",
    "star_ratings = reviews.apply(stars, axis='columns')\n",
    "\n",
    "# Check your answer\n",
    "q7.check()"
   ]
  },
  {
   "cell_type": "code",
   "execution_count": 15,
   "id": "3803b8ed",
   "metadata": {
    "execution": {
     "iopub.execute_input": "2023-08-07T06:38:11.319465Z",
     "iopub.status.busy": "2023-08-07T06:38:11.319133Z",
     "iopub.status.idle": "2023-08-07T06:38:11.325639Z",
     "shell.execute_reply": "2023-08-07T06:38:11.324497Z"
    },
    "papermill": {
     "duration": 0.017368,
     "end_time": "2023-08-07T06:38:11.328257",
     "exception": false,
     "start_time": "2023-08-07T06:38:11.310889",
     "status": "completed"
    },
    "tags": []
   },
   "outputs": [],
   "source": [
    "# q7.hint()\n",
    "# q7.solution()"
   ]
  },
  {
   "cell_type": "markdown",
   "id": "afae1f94",
   "metadata": {
    "papermill": {
     "duration": 0.007382,
     "end_time": "2023-08-07T06:38:11.343964",
     "exception": false,
     "start_time": "2023-08-07T06:38:11.336582",
     "status": "completed"
    },
    "tags": []
   },
   "source": [
    "# Keep going\n",
    "Continue to **[grouping and sorting](https://www.kaggle.com/residentmario/grouping-and-sorting)**."
   ]
  },
  {
   "cell_type": "markdown",
   "id": "f3b5a202",
   "metadata": {
    "papermill": {
     "duration": 0.007307,
     "end_time": "2023-08-07T06:38:11.358700",
     "exception": false,
     "start_time": "2023-08-07T06:38:11.351393",
     "status": "completed"
    },
    "tags": []
   },
   "source": [
    "---\n",
    "\n",
    "\n",
    "\n",
    "\n",
    "*Have questions or comments? Visit the [course discussion forum](https://www.kaggle.com/learn/pandas/discussion) to chat with other learners.*"
   ]
  }
 ],
 "metadata": {
  "kernelspec": {
   "display_name": "Python 3",
   "language": "python",
   "name": "python3"
  },
  "language_info": {
   "codemirror_mode": {
    "name": "ipython",
    "version": 3
   },
   "file_extension": ".py",
   "mimetype": "text/x-python",
   "name": "python",
   "nbconvert_exporter": "python",
   "pygments_lexer": "ipython3",
   "version": "3.10.12"
  },
  "papermill": {
   "default_parameters": {},
   "duration": 61.099014,
   "end_time": "2023-08-07T06:38:12.289707",
   "environment_variables": {},
   "exception": null,
   "input_path": "__notebook__.ipynb",
   "output_path": "__notebook__.ipynb",
   "parameters": {},
   "start_time": "2023-08-07T06:37:11.190693",
   "version": "2.4.0"
  }
 },
 "nbformat": 4,
 "nbformat_minor": 5
}
