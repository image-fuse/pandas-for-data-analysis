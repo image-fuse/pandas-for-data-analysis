{
 "cells": [
  {
   "cell_type": "markdown",
   "id": "32388e1b",
   "metadata": {
    "papermill": {
     "duration": 0.008513,
     "end_time": "2023-08-07T06:57:44.630181",
     "exception": false,
     "start_time": "2023-08-07T06:57:44.621668",
     "status": "completed"
    },
    "tags": []
   },
   "source": [
    "**This notebook is an exercise in the [Pandas](https://www.kaggle.com/learn/pandas) course.  You can reference the tutorial at [this link](https://www.kaggle.com/residentmario/grouping-and-sorting).**\n",
    "\n",
    "---\n"
   ]
  },
  {
   "cell_type": "markdown",
   "id": "ee591199",
   "metadata": {
    "papermill": {
     "duration": 0.007323,
     "end_time": "2023-08-07T06:57:44.645370",
     "exception": false,
     "start_time": "2023-08-07T06:57:44.638047",
     "status": "completed"
    },
    "tags": []
   },
   "source": [
    "# Introduction\n",
    "\n",
    "In these exercises we'll apply groupwise analysis to our dataset.\n",
    "\n",
    "Run the code cell below to load the data before running the exercises."
   ]
  },
  {
   "cell_type": "code",
   "execution_count": 1,
   "id": "fffcb302",
   "metadata": {
    "execution": {
     "iopub.execute_input": "2023-08-07T06:57:44.662679Z",
     "iopub.status.busy": "2023-08-07T06:57:44.661868Z",
     "iopub.status.idle": "2023-08-07T06:57:47.950877Z",
     "shell.execute_reply": "2023-08-07T06:57:47.949692Z"
    },
    "papermill": {
     "duration": 3.300785,
     "end_time": "2023-08-07T06:57:47.953703",
     "exception": false,
     "start_time": "2023-08-07T06:57:44.652918",
     "status": "completed"
    },
    "tags": []
   },
   "outputs": [
    {
     "name": "stdout",
     "output_type": "stream",
     "text": [
      "Setup complete.\n"
     ]
    }
   ],
   "source": [
    "import pandas as pd\n",
    "\n",
    "reviews = pd.read_csv(\"../input/wine-reviews/winemag-data-130k-v2.csv\", index_col=0)\n",
    "#pd.set_option(\"display.max_rows\", 5)\n",
    "\n",
    "from learntools.core import binder; binder.bind(globals())\n",
    "from learntools.pandas.grouping_and_sorting import *\n",
    "print(\"Setup complete.\")"
   ]
  },
  {
   "cell_type": "markdown",
   "id": "aa6cfed0",
   "metadata": {
    "papermill": {
     "duration": 0.007508,
     "end_time": "2023-08-07T06:57:47.969292",
     "exception": false,
     "start_time": "2023-08-07T06:57:47.961784",
     "status": "completed"
    },
    "tags": []
   },
   "source": [
    "# Exercises"
   ]
  },
  {
   "cell_type": "markdown",
   "id": "e1d12c44",
   "metadata": {
    "papermill": {
     "duration": 0.007451,
     "end_time": "2023-08-07T06:57:47.984526",
     "exception": false,
     "start_time": "2023-08-07T06:57:47.977075",
     "status": "completed"
    },
    "tags": []
   },
   "source": [
    "## 1.\n",
    "Who are the most common wine reviewers in the dataset? Create a `Series` whose index is the `taster_twitter_handle` category from the dataset, and whose values count how many reviews each person wrote."
   ]
  },
  {
   "cell_type": "code",
   "execution_count": 2,
   "id": "5b25cce5",
   "metadata": {
    "execution": {
     "iopub.execute_input": "2023-08-07T06:57:48.001753Z",
     "iopub.status.busy": "2023-08-07T06:57:48.001314Z",
     "iopub.status.idle": "2023-08-07T06:57:48.049380Z",
     "shell.execute_reply": "2023-08-07T06:57:48.048495Z"
    },
    "papermill": {
     "duration": 0.059334,
     "end_time": "2023-08-07T06:57:48.051542",
     "exception": false,
     "start_time": "2023-08-07T06:57:47.992208",
     "status": "completed"
    },
    "tags": []
   },
   "outputs": [
    {
     "data": {
      "application/javascript": [
       "parent.postMessage({\"jupyterEvent\": \"custom.exercise_interaction\", \"data\": {\"outcomeType\": 1, \"valueTowardsCompletion\": 0.16666666666666666, \"interactionType\": 1, \"questionType\": 1, \"questionId\": \"1_ReviewsWritten\", \"learnToolsVersion\": \"0.3.4\", \"failureMessage\": \"\", \"exceptionClass\": \"\", \"trace\": \"\"}}, \"*\")"
      ],
      "text/plain": [
       "<IPython.core.display.Javascript object>"
      ]
     },
     "metadata": {},
     "output_type": "display_data"
    },
    {
     "data": {
      "text/markdown": [
       "<span style=\"color:#33cc33\">Correct:</span> \n",
       "\n",
       "\n",
       "```python\n",
       "reviews_written = reviews.groupby('taster_twitter_handle').size()\n",
       "```\n",
       "or\n",
       "```python\n",
       "reviews_written = reviews.groupby('taster_twitter_handle').taster_twitter_handle.count()\n",
       "```\n"
      ],
      "text/plain": [
       "Correct: \n",
       "\n",
       "\n",
       "```python\n",
       "reviews_written = reviews.groupby('taster_twitter_handle').size()\n",
       "```\n",
       "or\n",
       "```python\n",
       "reviews_written = reviews.groupby('taster_twitter_handle').taster_twitter_handle.count()\n",
       "```"
      ]
     },
     "metadata": {},
     "output_type": "display_data"
    }
   ],
   "source": [
    "# Your code here\n",
    "reviews_written = reviews.groupby('taster_twitter_handle').taster_twitter_handle.count()\n",
    "\n",
    "# Check your answer\n",
    "q1.check()"
   ]
  },
  {
   "cell_type": "code",
   "execution_count": 3,
   "id": "a9514109",
   "metadata": {
    "execution": {
     "iopub.execute_input": "2023-08-07T06:57:48.070772Z",
     "iopub.status.busy": "2023-08-07T06:57:48.070321Z",
     "iopub.status.idle": "2023-08-07T06:57:48.075034Z",
     "shell.execute_reply": "2023-08-07T06:57:48.073875Z"
    },
    "papermill": {
     "duration": 0.017671,
     "end_time": "2023-08-07T06:57:48.077708",
     "exception": false,
     "start_time": "2023-08-07T06:57:48.060037",
     "status": "completed"
    },
    "tags": []
   },
   "outputs": [],
   "source": [
    "# q1.hint()\n",
    "# q1.solution()"
   ]
  },
  {
   "cell_type": "markdown",
   "id": "707d637f",
   "metadata": {
    "papermill": {
     "duration": 0.009166,
     "end_time": "2023-08-07T06:57:48.095055",
     "exception": false,
     "start_time": "2023-08-07T06:57:48.085889",
     "status": "completed"
    },
    "tags": []
   },
   "source": [
    "## 2.\n",
    "What is the best wine I can buy for a given amount of money? Create a `Series` whose index is wine prices and whose values is the maximum number of points a wine costing that much was given in a review. Sort the values by price, ascending (so that `4.0` dollars is at the top and `3300.0` dollars is at the bottom)."
   ]
  },
  {
   "cell_type": "code",
   "execution_count": 4,
   "id": "ec30563f",
   "metadata": {
    "execution": {
     "iopub.execute_input": "2023-08-07T06:57:48.113258Z",
     "iopub.status.busy": "2023-08-07T06:57:48.112830Z",
     "iopub.status.idle": "2023-08-07T06:57:48.127509Z",
     "shell.execute_reply": "2023-08-07T06:57:48.126312Z"
    },
    "papermill": {
     "duration": 0.026735,
     "end_time": "2023-08-07T06:57:48.129900",
     "exception": false,
     "start_time": "2023-08-07T06:57:48.103165",
     "status": "completed"
    },
    "tags": []
   },
   "outputs": [
    {
     "data": {
      "application/javascript": [
       "parent.postMessage({\"jupyterEvent\": \"custom.exercise_interaction\", \"data\": {\"outcomeType\": 1, \"valueTowardsCompletion\": 0.16666666666666666, \"interactionType\": 1, \"questionType\": 1, \"questionId\": \"2_BestRatingPerPrice\", \"learnToolsVersion\": \"0.3.4\", \"failureMessage\": \"\", \"exceptionClass\": \"\", \"trace\": \"\"}}, \"*\")"
      ],
      "text/plain": [
       "<IPython.core.display.Javascript object>"
      ]
     },
     "metadata": {},
     "output_type": "display_data"
    },
    {
     "data": {
      "text/markdown": [
       "<span style=\"color:#33cc33\">Correct</span>"
      ],
      "text/plain": [
       "Correct"
      ]
     },
     "metadata": {},
     "output_type": "display_data"
    }
   ],
   "source": [
    "best_rating_per_price = reviews.groupby('price').points.max()\n",
    "\n",
    "# Check your answer\n",
    "q2.check()"
   ]
  },
  {
   "cell_type": "code",
   "execution_count": 5,
   "id": "6fefd60c",
   "metadata": {
    "execution": {
     "iopub.execute_input": "2023-08-07T06:57:48.148810Z",
     "iopub.status.busy": "2023-08-07T06:57:48.148393Z",
     "iopub.status.idle": "2023-08-07T06:57:48.153520Z",
     "shell.execute_reply": "2023-08-07T06:57:48.152349Z"
    },
    "papermill": {
     "duration": 0.017295,
     "end_time": "2023-08-07T06:57:48.155880",
     "exception": false,
     "start_time": "2023-08-07T06:57:48.138585",
     "status": "completed"
    },
    "tags": []
   },
   "outputs": [],
   "source": [
    "#q2.hint()\n",
    "#q2.solution()"
   ]
  },
  {
   "cell_type": "markdown",
   "id": "c7fe4f47",
   "metadata": {
    "papermill": {
     "duration": 0.008129,
     "end_time": "2023-08-07T06:57:48.172458",
     "exception": false,
     "start_time": "2023-08-07T06:57:48.164329",
     "status": "completed"
    },
    "tags": []
   },
   "source": [
    "## 3.\n",
    "What are the minimum and maximum prices for each `variety` of wine? Create a `DataFrame` whose index is the `variety` category from the dataset and whose values are the `min` and `max` values thereof."
   ]
  },
  {
   "cell_type": "code",
   "execution_count": 6,
   "id": "ea6ef317",
   "metadata": {
    "execution": {
     "iopub.execute_input": "2023-08-07T06:57:48.191088Z",
     "iopub.status.busy": "2023-08-07T06:57:48.190694Z",
     "iopub.status.idle": "2023-08-07T06:57:48.233045Z",
     "shell.execute_reply": "2023-08-07T06:57:48.231937Z"
    },
    "papermill": {
     "duration": 0.054511,
     "end_time": "2023-08-07T06:57:48.235525",
     "exception": false,
     "start_time": "2023-08-07T06:57:48.181014",
     "status": "completed"
    },
    "tags": []
   },
   "outputs": [
    {
     "data": {
      "application/javascript": [
       "parent.postMessage({\"jupyterEvent\": \"custom.exercise_interaction\", \"data\": {\"outcomeType\": 1, \"valueTowardsCompletion\": 0.16666666666666666, \"interactionType\": 1, \"questionType\": 1, \"questionId\": \"3_PriceExtremes\", \"learnToolsVersion\": \"0.3.4\", \"failureMessage\": \"\", \"exceptionClass\": \"\", \"trace\": \"\"}}, \"*\")"
      ],
      "text/plain": [
       "<IPython.core.display.Javascript object>"
      ]
     },
     "metadata": {},
     "output_type": "display_data"
    },
    {
     "data": {
      "text/markdown": [
       "<span style=\"color:#33cc33\">Correct</span>"
      ],
      "text/plain": [
       "Correct"
      ]
     },
     "metadata": {},
     "output_type": "display_data"
    }
   ],
   "source": [
    "price_extremes = reviews.groupby('variety').price.agg([min, max])\n",
    "\n",
    "# Check your answer\n",
    "q3.check()"
   ]
  },
  {
   "cell_type": "code",
   "execution_count": 7,
   "id": "fe399a15",
   "metadata": {
    "execution": {
     "iopub.execute_input": "2023-08-07T06:57:48.255532Z",
     "iopub.status.busy": "2023-08-07T06:57:48.255137Z",
     "iopub.status.idle": "2023-08-07T06:57:48.259952Z",
     "shell.execute_reply": "2023-08-07T06:57:48.258767Z"
    },
    "papermill": {
     "duration": 0.017447,
     "end_time": "2023-08-07T06:57:48.262203",
     "exception": false,
     "start_time": "2023-08-07T06:57:48.244756",
     "status": "completed"
    },
    "tags": []
   },
   "outputs": [],
   "source": [
    "# q3.hint()\n",
    "# q3.solution()"
   ]
  },
  {
   "cell_type": "markdown",
   "id": "dec756de",
   "metadata": {
    "papermill": {
     "duration": 0.008541,
     "end_time": "2023-08-07T06:57:48.279681",
     "exception": false,
     "start_time": "2023-08-07T06:57:48.271140",
     "status": "completed"
    },
    "tags": []
   },
   "source": [
    "## 4.\n",
    "What are the most expensive wine varieties? Create a variable `sorted_varieties` containing a copy of the dataframe from the previous question where varieties are sorted in descending order based on minimum price, then on maximum price (to break ties)."
   ]
  },
  {
   "cell_type": "code",
   "execution_count": 8,
   "id": "6ceeaa7f",
   "metadata": {
    "execution": {
     "iopub.execute_input": "2023-08-07T06:57:48.299391Z",
     "iopub.status.busy": "2023-08-07T06:57:48.298446Z",
     "iopub.status.idle": "2023-08-07T06:57:48.311152Z",
     "shell.execute_reply": "2023-08-07T06:57:48.310147Z"
    },
    "papermill": {
     "duration": 0.024945,
     "end_time": "2023-08-07T06:57:48.313297",
     "exception": false,
     "start_time": "2023-08-07T06:57:48.288352",
     "status": "completed"
    },
    "tags": []
   },
   "outputs": [
    {
     "data": {
      "application/javascript": [
       "parent.postMessage({\"jupyterEvent\": \"custom.exercise_interaction\", \"data\": {\"outcomeType\": 1, \"valueTowardsCompletion\": 0.16666666666666666, \"interactionType\": 1, \"questionType\": 1, \"questionId\": \"4_SortedVarieties\", \"learnToolsVersion\": \"0.3.4\", \"failureMessage\": \"\", \"exceptionClass\": \"\", \"trace\": \"\"}}, \"*\")"
      ],
      "text/plain": [
       "<IPython.core.display.Javascript object>"
      ]
     },
     "metadata": {},
     "output_type": "display_data"
    },
    {
     "data": {
      "text/markdown": [
       "<span style=\"color:#33cc33\">Correct</span>"
      ],
      "text/plain": [
       "Correct"
      ]
     },
     "metadata": {},
     "output_type": "display_data"
    }
   ],
   "source": [
    "sorted_varieties = price_extremes.sort_values(by=['min', 'max'], ascending=False)\n",
    "\n",
    "# Check your answer\n",
    "q4.check()"
   ]
  },
  {
   "cell_type": "code",
   "execution_count": 9,
   "id": "2706f09e",
   "metadata": {
    "execution": {
     "iopub.execute_input": "2023-08-07T06:57:48.333457Z",
     "iopub.status.busy": "2023-08-07T06:57:48.333032Z",
     "iopub.status.idle": "2023-08-07T06:57:48.337565Z",
     "shell.execute_reply": "2023-08-07T06:57:48.336598Z"
    },
    "papermill": {
     "duration": 0.017357,
     "end_time": "2023-08-07T06:57:48.339810",
     "exception": false,
     "start_time": "2023-08-07T06:57:48.322453",
     "status": "completed"
    },
    "tags": []
   },
   "outputs": [],
   "source": [
    "# q4.hint()\n",
    "# q4.solution()"
   ]
  },
  {
   "cell_type": "markdown",
   "id": "71b5523f",
   "metadata": {
    "papermill": {
     "duration": 0.008968,
     "end_time": "2023-08-07T06:57:48.358005",
     "exception": false,
     "start_time": "2023-08-07T06:57:48.349037",
     "status": "completed"
    },
    "tags": []
   },
   "source": [
    "## 5.\n",
    "Create a `Series` whose index is reviewers and whose values is the average review score given out by that reviewer. Hint: you will need the `taster_name` and `points` columns."
   ]
  },
  {
   "cell_type": "code",
   "execution_count": 10,
   "id": "adf55216",
   "metadata": {
    "execution": {
     "iopub.execute_input": "2023-08-07T06:57:48.378647Z",
     "iopub.status.busy": "2023-08-07T06:57:48.378202Z",
     "iopub.status.idle": "2023-08-07T06:57:48.414675Z",
     "shell.execute_reply": "2023-08-07T06:57:48.413475Z"
    },
    "papermill": {
     "duration": 0.049377,
     "end_time": "2023-08-07T06:57:48.417082",
     "exception": false,
     "start_time": "2023-08-07T06:57:48.367705",
     "status": "completed"
    },
    "tags": []
   },
   "outputs": [
    {
     "data": {
      "application/javascript": [
       "parent.postMessage({\"jupyterEvent\": \"custom.exercise_interaction\", \"data\": {\"outcomeType\": 1, \"valueTowardsCompletion\": 0.16666666666666666, \"interactionType\": 1, \"questionType\": 1, \"questionId\": \"5_ReviewerMeanRatings\", \"learnToolsVersion\": \"0.3.4\", \"failureMessage\": \"\", \"exceptionClass\": \"\", \"trace\": \"\"}}, \"*\")"
      ],
      "text/plain": [
       "<IPython.core.display.Javascript object>"
      ]
     },
     "metadata": {},
     "output_type": "display_data"
    },
    {
     "data": {
      "text/markdown": [
       "<span style=\"color:#33cc33\">Correct</span>"
      ],
      "text/plain": [
       "Correct"
      ]
     },
     "metadata": {},
     "output_type": "display_data"
    }
   ],
   "source": [
    "reviewer_mean_ratings = reviews.groupby('taster_name').points.mean()\n",
    "\n",
    "# Check your answer\n",
    "q5.check()"
   ]
  },
  {
   "cell_type": "code",
   "execution_count": 11,
   "id": "3c638816",
   "metadata": {
    "execution": {
     "iopub.execute_input": "2023-08-07T06:57:48.438157Z",
     "iopub.status.busy": "2023-08-07T06:57:48.437751Z",
     "iopub.status.idle": "2023-08-07T06:57:48.443197Z",
     "shell.execute_reply": "2023-08-07T06:57:48.442005Z"
    },
    "papermill": {
     "duration": 0.018868,
     "end_time": "2023-08-07T06:57:48.445575",
     "exception": false,
     "start_time": "2023-08-07T06:57:48.426707",
     "status": "completed"
    },
    "tags": []
   },
   "outputs": [],
   "source": [
    "#q5.hint()\n",
    "#q5.solution()"
   ]
  },
  {
   "cell_type": "markdown",
   "id": "cd9c9d1a",
   "metadata": {
    "papermill": {
     "duration": 0.009033,
     "end_time": "2023-08-07T06:57:48.464568",
     "exception": false,
     "start_time": "2023-08-07T06:57:48.455535",
     "status": "completed"
    },
    "tags": []
   },
   "source": [
    "Are there significant differences in the average scores assigned by the various reviewers? Run the cell below to use the `describe()` method to see a summary of the range of values."
   ]
  },
  {
   "cell_type": "code",
   "execution_count": 12,
   "id": "e31ee807",
   "metadata": {
    "execution": {
     "iopub.execute_input": "2023-08-07T06:57:48.485297Z",
     "iopub.status.busy": "2023-08-07T06:57:48.484581Z",
     "iopub.status.idle": "2023-08-07T06:57:48.499804Z",
     "shell.execute_reply": "2023-08-07T06:57:48.498543Z"
    },
    "papermill": {
     "duration": 0.028093,
     "end_time": "2023-08-07T06:57:48.502008",
     "exception": false,
     "start_time": "2023-08-07T06:57:48.473915",
     "status": "completed"
    },
    "tags": []
   },
   "outputs": [
    {
     "data": {
      "text/plain": [
       "count    19.000000\n",
       "mean     88.233026\n",
       "std       1.243610\n",
       "min      85.855422\n",
       "25%      87.323501\n",
       "50%      88.536235\n",
       "75%      88.975256\n",
       "max      90.562551\n",
       "Name: points, dtype: float64"
      ]
     },
     "execution_count": 12,
     "metadata": {},
     "output_type": "execute_result"
    }
   ],
   "source": [
    "reviewer_mean_ratings.describe()"
   ]
  },
  {
   "cell_type": "markdown",
   "id": "39e9d130",
   "metadata": {
    "papermill": {
     "duration": 0.010489,
     "end_time": "2023-08-07T06:57:48.522320",
     "exception": false,
     "start_time": "2023-08-07T06:57:48.511831",
     "status": "completed"
    },
    "tags": []
   },
   "source": [
    "## 6.\n",
    "What combination of countries and varieties are most common? Create a `Series` whose index is a `MultiIndex`of `{country, variety}` pairs. For example, a pinot noir produced in the US should map to `{\"US\", \"Pinot Noir\"}`. Sort the values in the `Series` in descending order based on wine count."
   ]
  },
  {
   "cell_type": "code",
   "execution_count": 13,
   "id": "ffc26d59",
   "metadata": {
    "execution": {
     "iopub.execute_input": "2023-08-07T06:57:48.543482Z",
     "iopub.status.busy": "2023-08-07T06:57:48.543075Z",
     "iopub.status.idle": "2023-08-07T06:57:48.612701Z",
     "shell.execute_reply": "2023-08-07T06:57:48.611306Z"
    },
    "papermill": {
     "duration": 0.083159,
     "end_time": "2023-08-07T06:57:48.615429",
     "exception": false,
     "start_time": "2023-08-07T06:57:48.532270",
     "status": "completed"
    },
    "tags": []
   },
   "outputs": [
    {
     "data": {
      "application/javascript": [
       "parent.postMessage({\"jupyterEvent\": \"custom.exercise_interaction\", \"data\": {\"outcomeType\": 1, \"valueTowardsCompletion\": 0.16666666666666666, \"interactionType\": 1, \"questionType\": 1, \"questionId\": \"6_GroupbyCountryVariety\", \"learnToolsVersion\": \"0.3.4\", \"failureMessage\": \"\", \"exceptionClass\": \"\", \"trace\": \"\"}}, \"*\")"
      ],
      "text/plain": [
       "<IPython.core.display.Javascript object>"
      ]
     },
     "metadata": {},
     "output_type": "display_data"
    },
    {
     "data": {
      "text/markdown": [
       "<span style=\"color:#33cc33\">Correct</span>"
      ],
      "text/plain": [
       "Correct"
      ]
     },
     "metadata": {},
     "output_type": "display_data"
    }
   ],
   "source": [
    "country_variety_counts = reviews.groupby(['country','variety']).size().sort_values(ascending=False)\n",
    "\n",
    "# Check your answer\n",
    "q6.check()"
   ]
  },
  {
   "cell_type": "code",
   "execution_count": 14,
   "id": "a1bacb9b",
   "metadata": {
    "execution": {
     "iopub.execute_input": "2023-08-07T06:57:48.638984Z",
     "iopub.status.busy": "2023-08-07T06:57:48.637681Z",
     "iopub.status.idle": "2023-08-07T06:57:48.642724Z",
     "shell.execute_reply": "2023-08-07T06:57:48.641657Z"
    },
    "papermill": {
     "duration": 0.019218,
     "end_time": "2023-08-07T06:57:48.645006",
     "exception": false,
     "start_time": "2023-08-07T06:57:48.625788",
     "status": "completed"
    },
    "tags": []
   },
   "outputs": [],
   "source": [
    "# q6.hint()\n",
    "# q6.solution()"
   ]
  },
  {
   "cell_type": "markdown",
   "id": "99b4c4d8",
   "metadata": {
    "papermill": {
     "duration": 0.009499,
     "end_time": "2023-08-07T06:57:48.664414",
     "exception": false,
     "start_time": "2023-08-07T06:57:48.654915",
     "status": "completed"
    },
    "tags": []
   },
   "source": [
    "# Keep going\n",
    "\n",
    "Move on to the [**data types and missing data**](https://www.kaggle.com/residentmario/data-types-and-missing-values)."
   ]
  },
  {
   "cell_type": "markdown",
   "id": "027d4664",
   "metadata": {
    "papermill": {
     "duration": 0.009442,
     "end_time": "2023-08-07T06:57:48.683773",
     "exception": false,
     "start_time": "2023-08-07T06:57:48.674331",
     "status": "completed"
    },
    "tags": []
   },
   "source": [
    "---\n",
    "\n",
    "\n",
    "\n",
    "\n",
    "*Have questions or comments? Visit the [course discussion forum](https://www.kaggle.com/learn/pandas/discussion) to chat with other learners.*"
   ]
  }
 ],
 "metadata": {
  "kernelspec": {
   "display_name": "Python 3",
   "language": "python",
   "name": "python3"
  },
  "language_info": {
   "codemirror_mode": {
    "name": "ipython",
    "version": 3
   },
   "file_extension": ".py",
   "mimetype": "text/x-python",
   "name": "python",
   "nbconvert_exporter": "python",
   "pygments_lexer": "ipython3",
   "version": "3.10.12"
  },
  "papermill": {
   "default_parameters": {},
   "duration": 16.624299,
   "end_time": "2023-08-07T06:57:49.616676",
   "environment_variables": {},
   "exception": null,
   "input_path": "__notebook__.ipynb",
   "output_path": "__notebook__.ipynb",
   "parameters": {},
   "start_time": "2023-08-07T06:57:32.992377",
   "version": "2.4.0"
  }
 },
 "nbformat": 4,
 "nbformat_minor": 5
}
