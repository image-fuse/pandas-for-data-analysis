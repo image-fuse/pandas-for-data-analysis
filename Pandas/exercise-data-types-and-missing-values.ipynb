{
 "cells": [
  {
   "cell_type": "markdown",
   "id": "360ec554",
   "metadata": {
    "papermill": {
     "duration": 0.006641,
     "end_time": "2023-08-07T07:03:01.416283",
     "exception": false,
     "start_time": "2023-08-07T07:03:01.409642",
     "status": "completed"
    },
    "tags": []
   },
   "source": [
    "**This notebook is an exercise in the [Pandas](https://www.kaggle.com/learn/pandas) course.  You can reference the tutorial at [this link](https://www.kaggle.com/residentmario/data-types-and-missing-values).**\n",
    "\n",
    "---\n"
   ]
  },
  {
   "cell_type": "markdown",
   "id": "f15cab5b",
   "metadata": {
    "papermill": {
     "duration": 0.005747,
     "end_time": "2023-08-07T07:03:01.428248",
     "exception": false,
     "start_time": "2023-08-07T07:03:01.422501",
     "status": "completed"
    },
    "tags": []
   },
   "source": [
    "# Introduction\n",
    "\n",
    "Run the following cell to load your data and some utility functions."
   ]
  },
  {
   "cell_type": "code",
   "execution_count": 1,
   "id": "4a75b870",
   "metadata": {
    "execution": {
     "iopub.execute_input": "2023-08-07T07:03:01.442258Z",
     "iopub.status.busy": "2023-08-07T07:03:01.441865Z",
     "iopub.status.idle": "2023-08-07T07:03:04.666210Z",
     "shell.execute_reply": "2023-08-07T07:03:04.664943Z"
    },
    "papermill": {
     "duration": 3.23445,
     "end_time": "2023-08-07T07:03:04.668668",
     "exception": false,
     "start_time": "2023-08-07T07:03:01.434218",
     "status": "completed"
    },
    "tags": []
   },
   "outputs": [
    {
     "name": "stdout",
     "output_type": "stream",
     "text": [
      "Setup complete.\n"
     ]
    }
   ],
   "source": [
    "import pandas as pd\n",
    "\n",
    "reviews = pd.read_csv(\"../input/wine-reviews/winemag-data-130k-v2.csv\", index_col=0)\n",
    "\n",
    "from learntools.core import binder; binder.bind(globals())\n",
    "from learntools.pandas.data_types_and_missing_data import *\n",
    "print(\"Setup complete.\")"
   ]
  },
  {
   "cell_type": "markdown",
   "id": "3e0cf9f8",
   "metadata": {
    "papermill": {
     "duration": 0.005699,
     "end_time": "2023-08-07T07:03:04.680504",
     "exception": false,
     "start_time": "2023-08-07T07:03:04.674805",
     "status": "completed"
    },
    "tags": []
   },
   "source": [
    "# Exercises"
   ]
  },
  {
   "cell_type": "markdown",
   "id": "56fa40a3",
   "metadata": {
    "papermill": {
     "duration": 0.005663,
     "end_time": "2023-08-07T07:03:04.692280",
     "exception": false,
     "start_time": "2023-08-07T07:03:04.686617",
     "status": "completed"
    },
    "tags": []
   },
   "source": [
    "## 1. \n",
    "What is the data type of the `points` column in the dataset?"
   ]
  },
  {
   "cell_type": "code",
   "execution_count": 2,
   "id": "03255f50",
   "metadata": {
    "execution": {
     "iopub.execute_input": "2023-08-07T07:03:04.706223Z",
     "iopub.status.busy": "2023-08-07T07:03:04.705782Z",
     "iopub.status.idle": "2023-08-07T07:03:04.716634Z",
     "shell.execute_reply": "2023-08-07T07:03:04.715567Z"
    },
    "papermill": {
     "duration": 0.020665,
     "end_time": "2023-08-07T07:03:04.718891",
     "exception": false,
     "start_time": "2023-08-07T07:03:04.698226",
     "status": "completed"
    },
    "tags": []
   },
   "outputs": [
    {
     "data": {
      "application/javascript": [
       "parent.postMessage({\"jupyterEvent\": \"custom.exercise_interaction\", \"data\": {\"outcomeType\": 1, \"valueTowardsCompletion\": 0.25, \"interactionType\": 1, \"questionType\": 1, \"questionId\": \"1_PointsDtype\", \"learnToolsVersion\": \"0.3.4\", \"failureMessage\": \"\", \"exceptionClass\": \"\", \"trace\": \"\"}}, \"*\")"
      ],
      "text/plain": [
       "<IPython.core.display.Javascript object>"
      ]
     },
     "metadata": {},
     "output_type": "display_data"
    },
    {
     "data": {
      "text/markdown": [
       "<span style=\"color:#33cc33\">Correct</span>"
      ],
      "text/plain": [
       "Correct"
      ]
     },
     "metadata": {},
     "output_type": "display_data"
    }
   ],
   "source": [
    "# Your code here\n",
    "dtype = reviews['points'].dtype\n",
    "\n",
    "# Check your answer\n",
    "q1.check()"
   ]
  },
  {
   "cell_type": "code",
   "execution_count": 3,
   "id": "9f537290",
   "metadata": {
    "execution": {
     "iopub.execute_input": "2023-08-07T07:03:04.734433Z",
     "iopub.status.busy": "2023-08-07T07:03:04.733636Z",
     "iopub.status.idle": "2023-08-07T07:03:04.738157Z",
     "shell.execute_reply": "2023-08-07T07:03:04.737063Z"
    },
    "papermill": {
     "duration": 0.015047,
     "end_time": "2023-08-07T07:03:04.740517",
     "exception": false,
     "start_time": "2023-08-07T07:03:04.725470",
     "status": "completed"
    },
    "tags": []
   },
   "outputs": [],
   "source": [
    "#q1.hint()\n",
    "#q1.solution()"
   ]
  },
  {
   "cell_type": "markdown",
   "id": "002b4093",
   "metadata": {
    "papermill": {
     "duration": 0.006074,
     "end_time": "2023-08-07T07:03:04.753125",
     "exception": false,
     "start_time": "2023-08-07T07:03:04.747051",
     "status": "completed"
    },
    "tags": []
   },
   "source": [
    "## 2. \n",
    "Create a Series from entries in the `points` column, but convert the entries to strings. Hint: strings are `str` in native Python."
   ]
  },
  {
   "cell_type": "code",
   "execution_count": 4,
   "id": "ed6ecdbe",
   "metadata": {
    "execution": {
     "iopub.execute_input": "2023-08-07T07:03:04.768415Z",
     "iopub.status.busy": "2023-08-07T07:03:04.767298Z",
     "iopub.status.idle": "2023-08-07T07:03:04.867090Z",
     "shell.execute_reply": "2023-08-07T07:03:04.866066Z"
    },
    "papermill": {
     "duration": 0.110265,
     "end_time": "2023-08-07T07:03:04.869885",
     "exception": false,
     "start_time": "2023-08-07T07:03:04.759620",
     "status": "completed"
    },
    "tags": []
   },
   "outputs": [
    {
     "data": {
      "application/javascript": [
       "parent.postMessage({\"jupyterEvent\": \"custom.exercise_interaction\", \"data\": {\"outcomeType\": 1, \"valueTowardsCompletion\": 0.25, \"interactionType\": 1, \"questionType\": 1, \"questionId\": \"2_StrPoints\", \"learnToolsVersion\": \"0.3.4\", \"failureMessage\": \"\", \"exceptionClass\": \"\", \"trace\": \"\"}}, \"*\")"
      ],
      "text/plain": [
       "<IPython.core.display.Javascript object>"
      ]
     },
     "metadata": {},
     "output_type": "display_data"
    },
    {
     "data": {
      "text/markdown": [
       "<span style=\"color:#33cc33\">Correct</span>"
      ],
      "text/plain": [
       "Correct"
      ]
     },
     "metadata": {},
     "output_type": "display_data"
    }
   ],
   "source": [
    "point_strings = reviews['points'].astype('str')\n",
    "\n",
    "# Check your answer\n",
    "q2.check()"
   ]
  },
  {
   "cell_type": "code",
   "execution_count": 5,
   "id": "852f5826",
   "metadata": {
    "execution": {
     "iopub.execute_input": "2023-08-07T07:03:04.886451Z",
     "iopub.status.busy": "2023-08-07T07:03:04.886038Z",
     "iopub.status.idle": "2023-08-07T07:03:04.890246Z",
     "shell.execute_reply": "2023-08-07T07:03:04.889160Z"
    },
    "papermill": {
     "duration": 0.01527,
     "end_time": "2023-08-07T07:03:04.892494",
     "exception": false,
     "start_time": "2023-08-07T07:03:04.877224",
     "status": "completed"
    },
    "tags": []
   },
   "outputs": [],
   "source": [
    "#q2.hint()\n",
    "#q2.solution()"
   ]
  },
  {
   "cell_type": "markdown",
   "id": "f99723e6",
   "metadata": {
    "papermill": {
     "duration": 0.006436,
     "end_time": "2023-08-07T07:03:04.907061",
     "exception": false,
     "start_time": "2023-08-07T07:03:04.900625",
     "status": "completed"
    },
    "tags": []
   },
   "source": [
    "## 3.\n",
    "Sometimes the price column is null. How many reviews in the dataset are missing a price?"
   ]
  },
  {
   "cell_type": "code",
   "execution_count": 6,
   "id": "2ea80db0",
   "metadata": {
    "execution": {
     "iopub.execute_input": "2023-08-07T07:03:04.922850Z",
     "iopub.status.busy": "2023-08-07T07:03:04.921730Z",
     "iopub.status.idle": "2023-08-07T07:03:04.932624Z",
     "shell.execute_reply": "2023-08-07T07:03:04.931581Z"
    },
    "papermill": {
     "duration": 0.02113,
     "end_time": "2023-08-07T07:03:04.934898",
     "exception": false,
     "start_time": "2023-08-07T07:03:04.913768",
     "status": "completed"
    },
    "tags": []
   },
   "outputs": [
    {
     "data": {
      "application/javascript": [
       "parent.postMessage({\"jupyterEvent\": \"custom.exercise_interaction\", \"data\": {\"outcomeType\": 1, \"valueTowardsCompletion\": 0.25, \"interactionType\": 1, \"questionType\": 1, \"questionId\": \"3_CountMissingPrices\", \"learnToolsVersion\": \"0.3.4\", \"failureMessage\": \"\", \"exceptionClass\": \"\", \"trace\": \"\"}}, \"*\")"
      ],
      "text/plain": [
       "<IPython.core.display.Javascript object>"
      ]
     },
     "metadata": {},
     "output_type": "display_data"
    },
    {
     "data": {
      "text/markdown": [
       "<span style=\"color:#33cc33\">Correct</span>"
      ],
      "text/plain": [
       "Correct"
      ]
     },
     "metadata": {},
     "output_type": "display_data"
    }
   ],
   "source": [
    "n_missing_prices = reviews.price.isnull().sum()\n",
    "\n",
    "# Check your answer\n",
    "q3.check()"
   ]
  },
  {
   "cell_type": "code",
   "execution_count": 7,
   "id": "255c45ba",
   "metadata": {
    "execution": {
     "iopub.execute_input": "2023-08-07T07:03:04.951428Z",
     "iopub.status.busy": "2023-08-07T07:03:04.950272Z",
     "iopub.status.idle": "2023-08-07T07:03:04.955306Z",
     "shell.execute_reply": "2023-08-07T07:03:04.954465Z"
    },
    "papermill": {
     "duration": 0.015699,
     "end_time": "2023-08-07T07:03:04.957680",
     "exception": false,
     "start_time": "2023-08-07T07:03:04.941981",
     "status": "completed"
    },
    "tags": []
   },
   "outputs": [],
   "source": [
    "#q3.hint()\n",
    "#q3.solution()"
   ]
  },
  {
   "cell_type": "code",
   "execution_count": 8,
   "id": "ff80f721",
   "metadata": {
    "execution": {
     "iopub.execute_input": "2023-08-07T07:03:04.974036Z",
     "iopub.status.busy": "2023-08-07T07:03:04.973139Z",
     "iopub.status.idle": "2023-08-07T07:03:04.997359Z",
     "shell.execute_reply": "2023-08-07T07:03:04.996176Z"
    },
    "papermill": {
     "duration": 0.035228,
     "end_time": "2023-08-07T07:03:04.999993",
     "exception": false,
     "start_time": "2023-08-07T07:03:04.964765",
     "status": "completed"
    },
    "tags": []
   },
   "outputs": [
    {
     "data": {
      "text/html": [
       "<div>\n",
       "<style scoped>\n",
       "    .dataframe tbody tr th:only-of-type {\n",
       "        vertical-align: middle;\n",
       "    }\n",
       "\n",
       "    .dataframe tbody tr th {\n",
       "        vertical-align: top;\n",
       "    }\n",
       "\n",
       "    .dataframe thead th {\n",
       "        text-align: right;\n",
       "    }\n",
       "</style>\n",
       "<table border=\"1\" class=\"dataframe\">\n",
       "  <thead>\n",
       "    <tr style=\"text-align: right;\">\n",
       "      <th></th>\n",
       "      <th>country</th>\n",
       "      <th>description</th>\n",
       "      <th>designation</th>\n",
       "      <th>points</th>\n",
       "      <th>price</th>\n",
       "      <th>province</th>\n",
       "      <th>region_1</th>\n",
       "      <th>region_2</th>\n",
       "      <th>taster_name</th>\n",
       "      <th>taster_twitter_handle</th>\n",
       "      <th>title</th>\n",
       "      <th>variety</th>\n",
       "      <th>winery</th>\n",
       "    </tr>\n",
       "  </thead>\n",
       "  <tbody>\n",
       "    <tr>\n",
       "      <th>0</th>\n",
       "      <td>Italy</td>\n",
       "      <td>Aromas include tropical fruit, broom, brimston...</td>\n",
       "      <td>Vulkà Bianco</td>\n",
       "      <td>87</td>\n",
       "      <td>NaN</td>\n",
       "      <td>Sicily &amp; Sardinia</td>\n",
       "      <td>Etna</td>\n",
       "      <td>NaN</td>\n",
       "      <td>Kerin O’Keefe</td>\n",
       "      <td>@kerinokeefe</td>\n",
       "      <td>Nicosia 2013 Vulkà Bianco  (Etna)</td>\n",
       "      <td>White Blend</td>\n",
       "      <td>Nicosia</td>\n",
       "    </tr>\n",
       "    <tr>\n",
       "      <th>1</th>\n",
       "      <td>Portugal</td>\n",
       "      <td>This is ripe and fruity, a wine that is smooth...</td>\n",
       "      <td>Avidagos</td>\n",
       "      <td>87</td>\n",
       "      <td>15.0</td>\n",
       "      <td>Douro</td>\n",
       "      <td>NaN</td>\n",
       "      <td>NaN</td>\n",
       "      <td>Roger Voss</td>\n",
       "      <td>@vossroger</td>\n",
       "      <td>Quinta dos Avidagos 2011 Avidagos Red (Douro)</td>\n",
       "      <td>Portuguese Red</td>\n",
       "      <td>Quinta dos Avidagos</td>\n",
       "    </tr>\n",
       "  </tbody>\n",
       "</table>\n",
       "</div>"
      ],
      "text/plain": [
       "    country                                        description   designation  \\\n",
       "0     Italy  Aromas include tropical fruit, broom, brimston...  Vulkà Bianco   \n",
       "1  Portugal  This is ripe and fruity, a wine that is smooth...      Avidagos   \n",
       "\n",
       "   points  price           province region_1 region_2    taster_name  \\\n",
       "0      87    NaN  Sicily & Sardinia     Etna      NaN  Kerin O’Keefe   \n",
       "1      87   15.0              Douro      NaN      NaN     Roger Voss   \n",
       "\n",
       "  taster_twitter_handle                                          title  \\\n",
       "0          @kerinokeefe              Nicosia 2013 Vulkà Bianco  (Etna)   \n",
       "1            @vossroger  Quinta dos Avidagos 2011 Avidagos Red (Douro)   \n",
       "\n",
       "          variety               winery  \n",
       "0     White Blend              Nicosia  \n",
       "1  Portuguese Red  Quinta dos Avidagos  "
      ]
     },
     "execution_count": 8,
     "metadata": {},
     "output_type": "execute_result"
    }
   ],
   "source": [
    "reviews.head(2)"
   ]
  },
  {
   "cell_type": "markdown",
   "id": "44628d82",
   "metadata": {
    "papermill": {
     "duration": 0.007167,
     "end_time": "2023-08-07T07:03:05.014720",
     "exception": false,
     "start_time": "2023-08-07T07:03:05.007553",
     "status": "completed"
    },
    "tags": []
   },
   "source": [
    "## 4.\n",
    "What are the most common wine-producing regions? Create a Series counting the number of times each value occurs in the `region_1` field. This field is often missing data, so replace missing values with `Unknown`. Sort in descending order.  Your output should look something like this:\n",
    "\n",
    "```\n",
    "Unknown                    21247\n",
    "Napa Valley                 4480\n",
    "                           ...  \n",
    "Bardolino Superiore            1\n",
    "Primitivo del Tarantino        1\n",
    "Name: region_1, Length: 1230, dtype: int64\n",
    "```"
   ]
  },
  {
   "cell_type": "code",
   "execution_count": 9,
   "id": "a56705dc",
   "metadata": {
    "execution": {
     "iopub.execute_input": "2023-08-07T07:03:05.032954Z",
     "iopub.status.busy": "2023-08-07T07:03:05.032027Z",
     "iopub.status.idle": "2023-08-07T07:03:05.117948Z",
     "shell.execute_reply": "2023-08-07T07:03:05.116773Z"
    },
    "papermill": {
     "duration": 0.09777,
     "end_time": "2023-08-07T07:03:05.120502",
     "exception": false,
     "start_time": "2023-08-07T07:03:05.022732",
     "status": "completed"
    },
    "tags": []
   },
   "outputs": [
    {
     "data": {
      "application/javascript": [
       "parent.postMessage({\"jupyterEvent\": \"custom.exercise_interaction\", \"data\": {\"outcomeType\": 1, \"valueTowardsCompletion\": 0.25, \"interactionType\": 1, \"questionType\": 2, \"questionId\": \"4_ReviewsPerRegion\", \"learnToolsVersion\": \"0.3.4\", \"failureMessage\": \"\", \"exceptionClass\": \"\", \"trace\": \"\"}}, \"*\")"
      ],
      "text/plain": [
       "<IPython.core.display.Javascript object>"
      ]
     },
     "metadata": {},
     "output_type": "display_data"
    },
    {
     "data": {
      "text/markdown": [
       "<span style=\"color:#33cc33\">Correct</span>"
      ],
      "text/plain": [
       "Correct"
      ]
     },
     "metadata": {},
     "output_type": "display_data"
    }
   ],
   "source": [
    "reviews_per_region = reviews.region_1.fillna('Unknown').value_counts().sort_values(ascending=False)\n",
    "\n",
    "# Check your answer\n",
    "q4.check()"
   ]
  },
  {
   "cell_type": "code",
   "execution_count": 10,
   "id": "177a2906",
   "metadata": {
    "execution": {
     "iopub.execute_input": "2023-08-07T07:03:05.138513Z",
     "iopub.status.busy": "2023-08-07T07:03:05.138110Z",
     "iopub.status.idle": "2023-08-07T07:03:05.142413Z",
     "shell.execute_reply": "2023-08-07T07:03:05.141187Z"
    },
    "papermill": {
     "duration": 0.016526,
     "end_time": "2023-08-07T07:03:05.144800",
     "exception": false,
     "start_time": "2023-08-07T07:03:05.128274",
     "status": "completed"
    },
    "tags": []
   },
   "outputs": [],
   "source": [
    "# q4.hint()\n",
    "# q4.solution()"
   ]
  },
  {
   "cell_type": "markdown",
   "id": "9e0029c5",
   "metadata": {
    "papermill": {
     "duration": 0.007464,
     "end_time": "2023-08-07T07:03:05.160154",
     "exception": false,
     "start_time": "2023-08-07T07:03:05.152690",
     "status": "completed"
    },
    "tags": []
   },
   "source": [
    "# Keep going\n",
    "\n",
    "Move on to **[renaming and combining](https://www.kaggle.com/residentmario/renaming-and-combining)**."
   ]
  },
  {
   "cell_type": "markdown",
   "id": "c6d3c820",
   "metadata": {
    "papermill": {
     "duration": 0.007481,
     "end_time": "2023-08-07T07:03:05.175622",
     "exception": false,
     "start_time": "2023-08-07T07:03:05.168141",
     "status": "completed"
    },
    "tags": []
   },
   "source": [
    "---\n",
    "\n",
    "\n",
    "\n",
    "\n",
    "*Have questions or comments? Visit the [course discussion forum](https://www.kaggle.com/learn/pandas/discussion) to chat with other learners.*"
   ]
  }
 ],
 "metadata": {
  "kernelspec": {
   "display_name": "Python 3",
   "language": "python",
   "name": "python3"
  },
  "language_info": {
   "codemirror_mode": {
    "name": "ipython",
    "version": 3
   },
   "file_extension": ".py",
   "mimetype": "text/x-python",
   "name": "python",
   "nbconvert_exporter": "python",
   "pygments_lexer": "ipython3",
   "version": "3.10.12"
  },
  "papermill": {
   "default_parameters": {},
   "duration": 16.563104,
   "end_time": "2023-08-07T07:03:06.108098",
   "environment_variables": {},
   "exception": null,
   "input_path": "__notebook__.ipynb",
   "output_path": "__notebook__.ipynb",
   "parameters": {},
   "start_time": "2023-08-07T07:02:49.544994",
   "version": "2.4.0"
  }
 },
 "nbformat": 4,
 "nbformat_minor": 5
}
