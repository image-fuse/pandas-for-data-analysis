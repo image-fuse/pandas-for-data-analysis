{
 "cells": [
  {
   "cell_type": "markdown",
   "id": "39505109",
   "metadata": {
    "papermill": {
     "duration": 0.005876,
     "end_time": "2023-08-07T09:28:58.831815",
     "exception": false,
     "start_time": "2023-08-07T09:28:58.825939",
     "status": "completed"
    },
    "tags": []
   },
   "source": [
    "**This notebook is an exercise in the [Data Cleaning](https://www.kaggle.com/learn/data-cleaning) course.  You can reference the tutorial at [this link](https://www.kaggle.com/alexisbcook/character-encodings).**\n",
    "\n",
    "---\n"
   ]
  },
  {
   "cell_type": "markdown",
   "id": "120cfa1b",
   "metadata": {
    "papermill": {
     "duration": 0.004935,
     "end_time": "2023-08-07T09:28:58.842218",
     "exception": false,
     "start_time": "2023-08-07T09:28:58.837283",
     "status": "completed"
    },
    "tags": []
   },
   "source": [
    "In this exercise, you'll apply what you learned in the **Character encodings** tutorial.\n",
    "\n",
    "# Setup\n",
    "\n",
    "The questions below will give you feedback on your work. Run the following cell to set up the feedback system."
   ]
  },
  {
   "cell_type": "code",
   "execution_count": 1,
   "id": "429dec43",
   "metadata": {
    "execution": {
     "iopub.execute_input": "2023-08-07T09:28:58.854156Z",
     "iopub.status.busy": "2023-08-07T09:28:58.853773Z",
     "iopub.status.idle": "2023-08-07T09:28:58.935831Z",
     "shell.execute_reply": "2023-08-07T09:28:58.935089Z"
    },
    "papermill": {
     "duration": 0.090798,
     "end_time": "2023-08-07T09:28:58.938166",
     "exception": false,
     "start_time": "2023-08-07T09:28:58.847368",
     "status": "completed"
    },
    "tags": []
   },
   "outputs": [
    {
     "name": "stdout",
     "output_type": "stream",
     "text": [
      "Setup Complete\n"
     ]
    }
   ],
   "source": [
    "from learntools.core import binder\n",
    "binder.bind(globals())\n",
    "from learntools.data_cleaning.ex4 import *\n",
    "print(\"Setup Complete\")"
   ]
  },
  {
   "cell_type": "markdown",
   "id": "e8f6580b",
   "metadata": {
    "papermill": {
     "duration": 0.006149,
     "end_time": "2023-08-07T09:28:58.950523",
     "exception": false,
     "start_time": "2023-08-07T09:28:58.944374",
     "status": "completed"
    },
    "tags": []
   },
   "source": [
    "# Get our environment set up\n",
    "\n",
    "The first thing we'll need to do is load in the libraries we'll be using."
   ]
  },
  {
   "cell_type": "code",
   "execution_count": 2,
   "id": "3a31d8a2",
   "metadata": {
    "execution": {
     "iopub.execute_input": "2023-08-07T09:28:58.962750Z",
     "iopub.status.busy": "2023-08-07T09:28:58.962429Z",
     "iopub.status.idle": "2023-08-07T09:28:58.967475Z",
     "shell.execute_reply": "2023-08-07T09:28:58.966492Z"
    },
    "papermill": {
     "duration": 0.013507,
     "end_time": "2023-08-07T09:28:58.969357",
     "exception": false,
     "start_time": "2023-08-07T09:28:58.955850",
     "status": "completed"
    },
    "tags": []
   },
   "outputs": [],
   "source": [
    "# modules we'll use\n",
    "import pandas as pd\n",
    "import numpy as np\n",
    "\n",
    "# helpful character encoding module\n",
    "import charset_normalizer\n",
    "\n",
    "# set seed for reproducibility\n",
    "np.random.seed(0)"
   ]
  },
  {
   "cell_type": "markdown",
   "id": "4b2a5462",
   "metadata": {
    "papermill": {
     "duration": 0.005481,
     "end_time": "2023-08-07T09:28:58.980019",
     "exception": false,
     "start_time": "2023-08-07T09:28:58.974538",
     "status": "completed"
    },
    "tags": []
   },
   "source": [
    "# 1) What are encodings?\n",
    "\n",
    "You're working with a dataset composed of bytes.  Run the code cell below to print a sample entry."
   ]
  },
  {
   "cell_type": "code",
   "execution_count": 3,
   "id": "4c4845c7",
   "metadata": {
    "execution": {
     "iopub.execute_input": "2023-08-07T09:28:58.992387Z",
     "iopub.status.busy": "2023-08-07T09:28:58.992104Z",
     "iopub.status.idle": "2023-08-07T09:28:58.996912Z",
     "shell.execute_reply": "2023-08-07T09:28:58.995971Z"
    },
    "papermill": {
     "duration": 0.013731,
     "end_time": "2023-08-07T09:28:58.999302",
     "exception": false,
     "start_time": "2023-08-07T09:28:58.985571",
     "status": "completed"
    },
    "tags": []
   },
   "outputs": [
    {
     "name": "stdout",
     "output_type": "stream",
     "text": [
      "b'\\xa7A\\xa6n'\n",
      "data type: <class 'bytes'>\n"
     ]
    }
   ],
   "source": [
    "sample_entry = b'\\xa7A\\xa6n'\n",
    "print(sample_entry)\n",
    "print('data type:', type(sample_entry))"
   ]
  },
  {
   "cell_type": "markdown",
   "id": "5b2bafa9",
   "metadata": {
    "papermill": {
     "duration": 0.005776,
     "end_time": "2023-08-07T09:28:59.010826",
     "exception": false,
     "start_time": "2023-08-07T09:28:59.005050",
     "status": "completed"
    },
    "tags": []
   },
   "source": [
    "You notice that it doesn't use the standard UTF-8 encoding. \n",
    "\n",
    "Use the next code cell to create a variable `new_entry` that changes the encoding from `\"big5-tw\"` to `\"utf-8\"`.  `new_entry` should have the bytes datatype."
   ]
  },
  {
   "cell_type": "code",
   "execution_count": 4,
   "id": "4694dd1f",
   "metadata": {
    "execution": {
     "iopub.execute_input": "2023-08-07T09:28:59.024612Z",
     "iopub.status.busy": "2023-08-07T09:28:59.023862Z",
     "iopub.status.idle": "2023-08-07T09:28:59.034046Z",
     "shell.execute_reply": "2023-08-07T09:28:59.032934Z"
    },
    "papermill": {
     "duration": 0.019688,
     "end_time": "2023-08-07T09:28:59.036321",
     "exception": false,
     "start_time": "2023-08-07T09:28:59.016633",
     "status": "completed"
    },
    "tags": []
   },
   "outputs": [
    {
     "data": {
      "application/javascript": [
       "parent.postMessage({\"jupyterEvent\": \"custom.exercise_interaction\", \"data\": {\"outcomeType\": 1, \"valueTowardsCompletion\": 0.3333333333333333, \"interactionType\": 1, \"questionType\": 1, \"questionId\": \"1_EncodingsIntro\", \"learnToolsVersion\": \"0.3.4\", \"failureMessage\": \"\", \"exceptionClass\": \"\", \"trace\": \"\"}}, \"*\")"
      ],
      "text/plain": [
       "<IPython.core.display.Javascript object>"
      ]
     },
     "metadata": {},
     "output_type": "display_data"
    },
    {
     "data": {
      "text/markdown": [
       "<span style=\"color:#33cc33\">Correct</span>"
      ],
      "text/plain": [
       "Correct"
      ]
     },
     "metadata": {},
     "output_type": "display_data"
    }
   ],
   "source": [
    "before = sample_entry.decode('big5-tw')\n",
    "new_entry = before.encode()\n",
    "\n",
    "# Check your answer\n",
    "q1.check()"
   ]
  },
  {
   "cell_type": "code",
   "execution_count": 5,
   "id": "b54192ef",
   "metadata": {
    "execution": {
     "iopub.execute_input": "2023-08-07T09:28:59.051218Z",
     "iopub.status.busy": "2023-08-07T09:28:59.050773Z",
     "iopub.status.idle": "2023-08-07T09:28:59.054671Z",
     "shell.execute_reply": "2023-08-07T09:28:59.053730Z"
    },
    "papermill": {
     "duration": 0.014345,
     "end_time": "2023-08-07T09:28:59.056785",
     "exception": false,
     "start_time": "2023-08-07T09:28:59.042440",
     "status": "completed"
    },
    "tags": []
   },
   "outputs": [],
   "source": [
    "# Lines below will give you a hint or solution code\n",
    "# q1.hint()\n",
    "# q1.solution()"
   ]
  },
  {
   "cell_type": "markdown",
   "id": "aa6bb0e6",
   "metadata": {
    "papermill": {
     "duration": 0.005795,
     "end_time": "2023-08-07T09:28:59.068440",
     "exception": false,
     "start_time": "2023-08-07T09:28:59.062645",
     "status": "completed"
    },
    "tags": []
   },
   "source": [
    "# 2) Reading in files with encoding problems\n",
    "\n",
    "Use the code cell below to read in this file at path `\"../input/fatal-police-shootings-in-the-us/PoliceKillingsUS.csv\"`.  \n",
    "\n",
    "Figure out what the correct encoding should be and read in the file to a DataFrame `police_killings`."
   ]
  },
  {
   "cell_type": "code",
   "execution_count": 6,
   "id": "ff0c60df",
   "metadata": {
    "execution": {
     "iopub.execute_input": "2023-08-07T09:28:59.081670Z",
     "iopub.status.busy": "2023-08-07T09:28:59.081371Z",
     "iopub.status.idle": "2023-08-07T09:28:59.106775Z",
     "shell.execute_reply": "2023-08-07T09:28:59.106090Z"
    },
    "papermill": {
     "duration": 0.034481,
     "end_time": "2023-08-07T09:28:59.108653",
     "exception": false,
     "start_time": "2023-08-07T09:28:59.074172",
     "status": "completed"
    },
    "tags": []
   },
   "outputs": [
    {
     "data": {
      "application/javascript": [
       "parent.postMessage({\"jupyterEvent\": \"custom.exercise_interaction\", \"data\": {\"outcomeType\": 1, \"valueTowardsCompletion\": 0.3333333333333333, \"interactionType\": 1, \"questionType\": 1, \"questionId\": \"2_ReadIn\", \"learnToolsVersion\": \"0.3.4\", \"failureMessage\": \"\", \"exceptionClass\": \"\", \"trace\": \"\"}}, \"*\")"
      ],
      "text/plain": [
       "<IPython.core.display.Javascript object>"
      ]
     },
     "metadata": {},
     "output_type": "display_data"
    },
    {
     "data": {
      "text/markdown": [
       "<span style=\"color:#33cc33\">Correct</span>"
      ],
      "text/plain": [
       "Correct"
      ]
     },
     "metadata": {},
     "output_type": "display_data"
    }
   ],
   "source": [
    "# TODO: Load in the DataFrame correctly.\n",
    "police_killings = pd.read_csv('../input/fatal-police-shootings-in-the-us/PoliceKillingsUS.csv', encoding='Windows-1252')\n",
    "\n",
    "# Check your answer\n",
    "q2.check()"
   ]
  },
  {
   "cell_type": "markdown",
   "id": "f5dc5492",
   "metadata": {
    "papermill": {
     "duration": 0.006227,
     "end_time": "2023-08-07T09:28:59.121137",
     "exception": false,
     "start_time": "2023-08-07T09:28:59.114910",
     "status": "completed"
    },
    "tags": []
   },
   "source": [
    "Feel free to use any additional code cells for supplemental work.  To get credit for finishing this question, you'll need to run `q2.check()` and get a result of **Correct**."
   ]
  },
  {
   "cell_type": "code",
   "execution_count": 7,
   "id": "476798fc",
   "metadata": {
    "execution": {
     "iopub.execute_input": "2023-08-07T09:28:59.135434Z",
     "iopub.status.busy": "2023-08-07T09:28:59.135165Z",
     "iopub.status.idle": "2023-08-07T09:28:59.138624Z",
     "shell.execute_reply": "2023-08-07T09:28:59.137934Z"
    },
    "papermill": {
     "duration": 0.012531,
     "end_time": "2023-08-07T09:28:59.140455",
     "exception": false,
     "start_time": "2023-08-07T09:28:59.127924",
     "status": "completed"
    },
    "tags": []
   },
   "outputs": [],
   "source": [
    "# (Optional) Use this code cell for any additional work."
   ]
  },
  {
   "cell_type": "code",
   "execution_count": 8,
   "id": "83f8dd54",
   "metadata": {
    "execution": {
     "iopub.execute_input": "2023-08-07T09:28:59.153802Z",
     "iopub.status.busy": "2023-08-07T09:28:59.153503Z",
     "iopub.status.idle": "2023-08-07T09:28:59.157863Z",
     "shell.execute_reply": "2023-08-07T09:28:59.156839Z"
    },
    "papermill": {
     "duration": 0.013489,
     "end_time": "2023-08-07T09:28:59.160122",
     "exception": false,
     "start_time": "2023-08-07T09:28:59.146633",
     "status": "completed"
    },
    "tags": []
   },
   "outputs": [],
   "source": [
    "# Lines below will give you a hint or solution code\n",
    "#q2.hint()\n",
    "#q2.solution()"
   ]
  },
  {
   "cell_type": "markdown",
   "id": "f9acceaf",
   "metadata": {
    "papermill": {
     "duration": 0.005983,
     "end_time": "2023-08-07T09:28:59.172752",
     "exception": false,
     "start_time": "2023-08-07T09:28:59.166769",
     "status": "completed"
    },
    "tags": []
   },
   "source": [
    "# 3) Saving your files with UTF-8 encoding\n",
    "\n",
    "Save a version of the police killings dataset to CSV with UTF-8 encoding.  Your answer will be marked correct after saving this file.  \n",
    "\n",
    "Note: When using the `to_csv()` method, supply only the name of the file (e.g., `\"my_file.csv\"`).  This saves the file at the filepath `\"/kaggle/working/my_file.csv\"`."
   ]
  },
  {
   "cell_type": "code",
   "execution_count": 9,
   "id": "6931820b",
   "metadata": {
    "execution": {
     "iopub.execute_input": "2023-08-07T09:28:59.186895Z",
     "iopub.status.busy": "2023-08-07T09:28:59.186544Z",
     "iopub.status.idle": "2023-08-07T09:28:59.235866Z",
     "shell.execute_reply": "2023-08-07T09:28:59.235125Z"
    },
    "papermill": {
     "duration": 0.058844,
     "end_time": "2023-08-07T09:28:59.237826",
     "exception": false,
     "start_time": "2023-08-07T09:28:59.178982",
     "status": "completed"
    },
    "tags": []
   },
   "outputs": [
    {
     "data": {
      "application/javascript": [
       "parent.postMessage({\"jupyterEvent\": \"custom.exercise_interaction\", \"data\": {\"outcomeType\": 1, \"valueTowardsCompletion\": 0.3333333333333333, \"interactionType\": 1, \"questionType\": 2, \"questionId\": \"3_SaveCSV\", \"learnToolsVersion\": \"0.3.4\", \"failureMessage\": \"\", \"exceptionClass\": \"\", \"trace\": \"\"}}, \"*\")"
      ],
      "text/plain": [
       "<IPython.core.display.Javascript object>"
      ]
     },
     "metadata": {},
     "output_type": "display_data"
    },
    {
     "data": {
      "text/markdown": [
       "<span style=\"color:#33cc33\">Correct</span>"
      ],
      "text/plain": [
       "Correct"
      ]
     },
     "metadata": {},
     "output_type": "display_data"
    }
   ],
   "source": [
    "# TODO: Save the police killings dataset to CSV\n",
    "police_killings.to_csv('my_file.csv')\n",
    "\n",
    "# Check your answer\n",
    "q3.check()"
   ]
  },
  {
   "cell_type": "code",
   "execution_count": 10,
   "id": "42ed7326",
   "metadata": {
    "execution": {
     "iopub.execute_input": "2023-08-07T09:28:59.252353Z",
     "iopub.status.busy": "2023-08-07T09:28:59.252020Z",
     "iopub.status.idle": "2023-08-07T09:28:59.255996Z",
     "shell.execute_reply": "2023-08-07T09:28:59.255138Z"
    },
    "papermill": {
     "duration": 0.013529,
     "end_time": "2023-08-07T09:28:59.258132",
     "exception": false,
     "start_time": "2023-08-07T09:28:59.244603",
     "status": "completed"
    },
    "tags": []
   },
   "outputs": [],
   "source": [
    "# Lines below will give you a hint or solution code\n",
    "#q3.hint()\n",
    "#q3.solution()"
   ]
  },
  {
   "cell_type": "markdown",
   "id": "44c1bcf7",
   "metadata": {
    "papermill": {
     "duration": 0.006261,
     "end_time": "2023-08-07T09:28:59.271170",
     "exception": false,
     "start_time": "2023-08-07T09:28:59.264909",
     "status": "completed"
    },
    "tags": []
   },
   "source": [
    "# (Optional) More practice\n",
    "\n",
    "Check out [this dataset of files in different character encodings](https://www.kaggle.com/rtatman/character-encoding-examples). Can you read in all the files with their original encodings and them save them out as UTF-8 files?\n",
    "\n",
    "If you have a file that's in UTF-8 but has just a couple of weird-looking characters in it, you can try out the [ftfy module](https://ftfy.readthedocs.io/en/latest/#) and see if it helps. \n",
    "\n",
    "# Keep going\n",
    "\n",
    "In the final lesson, learn how to [**clean up inconsistent text entries**](https://www.kaggle.com/alexisbcook/inconsistent-data-entry) in your dataset."
   ]
  },
  {
   "cell_type": "markdown",
   "id": "8f536b4d",
   "metadata": {
    "papermill": {
     "duration": 0.006119,
     "end_time": "2023-08-07T09:28:59.283809",
     "exception": false,
     "start_time": "2023-08-07T09:28:59.277690",
     "status": "completed"
    },
    "tags": []
   },
   "source": [
    "---\n",
    "\n",
    "\n",
    "\n",
    "\n",
    "*Have questions or comments? Visit the [course discussion forum](https://www.kaggle.com/learn/data-cleaning/discussion) to chat with other learners.*"
   ]
  }
 ],
 "metadata": {
  "kernelspec": {
   "display_name": "Python 3",
   "language": "python",
   "name": "python3"
  },
  "language_info": {
   "codemirror_mode": {
    "name": "ipython",
    "version": 3
   },
   "file_extension": ".py",
   "mimetype": "text/x-python",
   "name": "python",
   "nbconvert_exporter": "python",
   "pygments_lexer": "ipython3",
   "version": "3.10.12"
  },
  "papermill": {
   "default_parameters": {},
   "duration": 11.001455,
   "end_time": "2023-08-07T09:28:59.908752",
   "environment_variables": {},
   "exception": null,
   "input_path": "__notebook__.ipynb",
   "output_path": "__notebook__.ipynb",
   "parameters": {},
   "start_time": "2023-08-07T09:28:48.907297",
   "version": "2.4.0"
  }
 },
 "nbformat": 4,
 "nbformat_minor": 5
}
